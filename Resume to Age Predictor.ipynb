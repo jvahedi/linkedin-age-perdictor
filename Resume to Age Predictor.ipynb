{
 "cells": [
  {
   "cell_type": "markdown",
   "id": "264044ab",
   "metadata": {},
   "source": [
    "# Age Predictor"
   ]
  },
  {
   "cell_type": "code",
   "execution_count": 1,
   "id": "e0733b73",
   "metadata": {
    "ExecuteTime": {
     "end_time": "2021-10-29T11:09:52.731410Z",
     "start_time": "2021-10-29T11:09:48.564579Z"
    }
   },
   "outputs": [],
   "source": [
    "#import all req. packages\n",
    "\n",
    "import numpy as np\n",
    "import pandas as pd\n",
    "import csv\n",
    "\n",
    "import datetime\n",
    "from datetime import datetime, timedelta\n",
    "import time\n",
    "\n",
    "from sklearn import preprocessing\n",
    "from sklearn.linear_model import ElasticNet\n",
    "from sklearn.ensemble import RandomForestRegressor\n",
    "\n",
    "from tensorflow.keras import Model\n",
    "from tensorflow.keras import Input\n",
    "from tensorflow.keras.layers import Dense\n",
    "from tensorflow.keras import Sequential\n",
    "\n",
    "import matplotlib.pyplot as plt\n",
    "%matplotlib inline"
   ]
  },
  {
   "cell_type": "code",
   "execution_count": 2,
   "id": "10d7f3ea",
   "metadata": {
    "ExecuteTime": {
     "end_time": "2021-10-29T11:09:54.370034Z",
     "start_time": "2021-10-29T11:09:52.732416Z"
    }
   },
   "outputs": [],
   "source": [
    "#import csv files\n",
    "\n",
    "Pos = pd.read_csv('data\\positions.csv')\n",
    "Edu = pd.read_csv('data\\education.csv')\n",
    "Sen = pd.read_csv('data\\jobtitle_seniority.csv')"
   ]
  },
  {
   "cell_type": "markdown",
   "id": "65a4e4e4",
   "metadata": {},
   "source": [
    "Since the database is only 100,000 users this is easily handled onboard locally. At scale, the pipeline should make use of a SQL Database for example to compute and merge. "
   ]
  },
  {
   "cell_type": "markdown",
   "id": "1816cf81",
   "metadata": {},
   "source": [
    "## 0. Basic Feature Creation/Deletion"
   ]
  },
  {
   "cell_type": "markdown",
   "id": "b2860db6",
   "metadata": {},
   "source": [
    "### Datetime"
   ]
  },
  {
   "cell_type": "markdown",
   "id": "97fa5b68",
   "metadata": {},
   "source": [
    "An date object that allows for easier date actions later. Relplacing the string format."
   ]
  },
  {
   "cell_type": "code",
   "execution_count": 3,
   "id": "329fe4cb",
   "metadata": {
    "ExecuteTime": {
     "end_time": "2021-10-29T11:09:54.574212Z",
     "start_time": "2021-10-29T11:09:54.371555Z"
    }
   },
   "outputs": [],
   "source": [
    "#change column formats\n",
    "#changing to 'datetime' format for easy operations later\n",
    "\n",
    "Pos['startdate'] = pd.to_datetime(Pos.startdate)\n",
    "Pos['enddate'] = pd.to_datetime(Pos.enddate)\n",
    "\n",
    "Edu['startdate'] = pd.to_datetime(Edu.startdate)\n",
    "Edu['enddate'] = pd.to_datetime(Edu.enddate)"
   ]
  },
  {
   "cell_type": "markdown",
   "id": "1c5013ae",
   "metadata": {},
   "source": [
    "### User ID"
   ]
  },
  {
   "cell_type": "markdown",
   "id": "fb836b0e",
   "metadata": {},
   "source": [
    "A master list of the 100,000 unique users."
   ]
  },
  {
   "cell_type": "code",
   "execution_count": 4,
   "id": "c6f80ecb",
   "metadata": {
    "ExecuteTime": {
     "end_time": "2021-10-29T11:09:54.730637Z",
     "start_time": "2021-10-29T11:09:54.576207Z"
    }
   },
   "outputs": [],
   "source": [
    "# Creating a master list of unique users\n",
    "\n",
    "master_users = pd.unique(Sen.user_id)\n",
    "master_users = pd.Series(master_users, name = 'user_id')"
   ]
  },
  {
   "cell_type": "markdown",
   "id": "ad8cd29f",
   "metadata": {},
   "source": [
    "### Time Duration for Degrees and Jobs"
   ]
  },
  {
   "cell_type": "markdown",
   "id": "ad4e2d4a",
   "metadata": {},
   "source": [
    "We want a feature that decribes not specific starting and end times but relative distances between them. This can be a helpful feature in detrmining the outcome."
   ]
  },
  {
   "cell_type": "code",
   "execution_count": 5,
   "id": "9de493fe",
   "metadata": {
    "ExecuteTime": {
     "end_time": "2021-10-29T11:09:54.761972Z",
     "start_time": "2021-10-29T11:09:54.731695Z"
    }
   },
   "outputs": [],
   "source": [
    "#add 'durations' between start and end dates for use later\n",
    "\n",
    "Edu['degduration'] = Edu.enddate - Edu.startdate \n",
    "Pos['jobduration'] = Pos.enddate - Pos.startdate "
   ]
  },
  {
   "cell_type": "markdown",
   "id": "3859c948",
   "metadata": {},
   "source": [
    "### Number of: Jobs, Degrees"
   ]
  },
  {
   "cell_type": "markdown",
   "id": "fee6948b",
   "metadata": {},
   "source": [
    "A good metric may be just the number of degrees or jobs someone has listed.\n",
    "A better version may be a time (duration) weighted number of job/degree features. "
   ]
  },
  {
   "cell_type": "code",
   "execution_count": 6,
   "id": "84577dcf",
   "metadata": {
    "ExecuteTime": {
     "end_time": "2021-10-29T11:09:55.141231Z",
     "start_time": "2021-10-29T11:09:54.762749Z"
    },
    "scrolled": false
   },
   "outputs": [
    {
     "name": "stdout",
     "output_type": "stream",
     "text": [
      "81464\n",
      "100000\n",
      "Examples of jobs by user:\n",
      "\n",
      "user_id\n",
      "++5SW5MI5/h8X1hMA3QnmQ4ZM3TcQvn1bQ/jHgHWG0kf/bHrn17MPg==    1\n",
      "++5qk2+uEmkI/3Z4FrBwDw4ZM3TcQvn1bQ/jHgHWG0kf/bHrn17MPg==    2\n",
      "++6+hv3i5RAVsrWO8q5JEQ5+2cvffV/mNepQVJd0smgtpBr4MGMFJQ==    9\n",
      "++6zEVtPCi83vpPTHSY2Vg5+2cvffV/mNepQVJd0smgtpBr4MGMFJQ==    2\n",
      "++7kB6m0hI1TgAPmyY1X6A5+2cvffV/mNepQVJd0smgtpBr4MGMFJQ==    9\n",
      "Name: jobtitle, dtype: int64\n",
      "\n",
      "Examples of degrees by user:\n",
      "\n",
      "user_id\n",
      "++5SW5MI5/h8X1hMA3QnmQ4ZM3TcQvn1bQ/jHgHWG0kf/bHrn17MPg==    1\n",
      "++5qk2+uEmkI/3Z4FrBwDw4ZM3TcQvn1bQ/jHgHWG0kf/bHrn17MPg==    2\n",
      "++6+hv3i5RAVsrWO8q5JEQ5+2cvffV/mNepQVJd0smgtpBr4MGMFJQ==    1\n",
      "++6zEVtPCi83vpPTHSY2Vg5+2cvffV/mNepQVJd0smgtpBr4MGMFJQ==    1\n",
      "++7kB6m0hI1TgAPmyY1X6A5+2cvffV/mNepQVJd0smgtpBr4MGMFJQ==    3\n",
      "Name: major, dtype: int64\n",
      "\n",
      "Most degrees awarded to: (*drumroll*)\n",
      "\n",
      "JBrqCQYzF+vs0NvzCbRnIQ5+2cvffV/mNepQVJd0smgtpBr4MGMFJQ== : 44\n"
     ]
    }
   ],
   "source": [
    "# dataframe for job and degree number\n",
    "\n",
    "job_num = Pos.groupby('user_id')['jobtitle'].size()\n",
    "print(job_num.size)\n",
    "deg_num = Edu.groupby('user_id')['major'].size()\n",
    "print(deg_num.size)\n",
    "\n",
    "print('Examples of jobs by user:' + '\\n' )\n",
    "print(job_num.head())\n",
    "print('\\n'+'Examples of degrees by user:' + '\\n' )\n",
    "print(deg_num.head())\n",
    "\n",
    "# id with most degrees\n",
    "\n",
    "print('\\n'+'Most degrees awarded to: (*drumroll*)'+'\\n')\n",
    "print(deg_num.index[deg_num.argmax()],':',deg_num.max())"
   ]
  },
  {
   "cell_type": "markdown",
   "id": "c49fae08",
   "metadata": {},
   "source": [
    "### Job Title/Degree Major -  *delete*"
   ]
  },
  {
   "cell_type": "markdown",
   "id": "7b625ed4",
   "metadata": {},
   "source": [
    "I plan on deleting the job titles and degree names for the purposes of our machine model as it is not worth sorting and properly labeling all the possibile variations. Yet this will be used in creating our age determination by hand for our training set. "
   ]
  },
  {
   "cell_type": "code",
   "execution_count": 7,
   "id": "6274d650",
   "metadata": {
    "ExecuteTime": {
     "end_time": "2021-10-29T11:09:55.156665Z",
     "start_time": "2021-10-29T11:09:55.142193Z"
    }
   },
   "outputs": [],
   "source": [
    "# delete 'job title' from positions table\n",
    "\n",
    "#Pos.drop('jobtitle',axis = 1, inplace = True)"
   ]
  },
  {
   "cell_type": "markdown",
   "id": "d32dada2",
   "metadata": {},
   "source": [
    "## 1. Data Visualization"
   ]
  },
  {
   "cell_type": "markdown",
   "id": "0e23cfdc",
   "metadata": {},
   "source": [
    "We apply this step of looking at our data to determine visually any intresting features or insights. Also helpful with data cleaning step later."
   ]
  },
  {
   "cell_type": "markdown",
   "id": "32ec4c8d",
   "metadata": {},
   "source": [
    "### Seniority"
   ]
  },
  {
   "cell_type": "code",
   "execution_count": 8,
   "id": "86f2a506",
   "metadata": {
    "ExecuteTime": {
     "end_time": "2021-10-29T11:09:55.439854Z",
     "start_time": "2021-10-29T11:09:55.158637Z"
    }
   },
   "outputs": [
    {
     "data": {
      "image/png": "[encoded data removed]",
      "text/plain": [
       "<Figure size 432x288 with 1 Axes>"
      ]
     },
     "metadata": {
      "needs_background": "light"
     },
     "output_type": "display_data"
    },
    {
     "name": "stdout",
     "output_type": "stream",
     "text": [
      "Range of seniority: count    416295.000000\n",
      "mean          4.197873\n",
      "std           1.878557\n",
      "min           0.084932\n",
      "25%           3.042827\n",
      "50%           4.066610\n",
      "75%           5.099970\n",
      "max          29.186301\n",
      "Name: seniority, dtype: float64\n"
     ]
    }
   ],
   "source": [
    "plt.hist(Sen.seniority, bins = 50, density = True)\n",
    "plt.title('Seniority Histogram')\n",
    "plt.ylabel('Percentage Prevalence')\n",
    "plt.xlabel('Seniority Score')\n",
    "plt.show()\n",
    "\n",
    "#looking at the range of seniority \n",
    "\n",
    "print(\"Range of seniority:\", Sen.seniority.describe())"
   ]
  },
  {
   "cell_type": "markdown",
   "id": "57e514b1",
   "metadata": {},
   "source": [
    "### Positions (duration)"
   ]
  },
  {
   "cell_type": "code",
   "execution_count": 9,
   "id": "406b15c2",
   "metadata": {
    "ExecuteTime": {
     "end_time": "2021-10-29T11:09:57.993062Z",
     "start_time": "2021-10-29T11:09:55.440879Z"
    }
   },
   "outputs": [
    {
     "data": {
      "image/png": "[encoded data removed]",
      "text/plain": [
       "<Figure size 432x288 with 1 Axes>"
      ]
     },
     "metadata": {
      "needs_background": "light"
     },
     "output_type": "display_data"
    },
    {
     "data": {
      "image/png": "[encoded data removed]",
      "text/plain": [
       "<Figure size 432x288 with 1 Axes>"
      ]
     },
     "metadata": {
      "needs_background": "light"
     },
     "output_type": "display_data"
    }
   ],
   "source": [
    "plt.hist(Pos.jobduration.dt.days, density = True,bins = int((Pos.jobduration.size)**.5))\n",
    "plt.title('Job Duration Histogram')\n",
    "plt.ylabel('Percentage Prevalence')\n",
    "plt.xlabel('Days Duration')\n",
    "plt.show()\n",
    "\n",
    "plt.hist(Pos.jobduration.dt.days, density = True,bins = int((Pos.jobduration.size)**.5), range = [0,10000])\n",
    "plt.title('Job Duration Histogram')\n",
    "plt.ylabel('Percentage Prevalence')\n",
    "plt.xlabel('Days Duration')\n",
    "X = np.linspace(0,10000, 100000)\n",
    "plt.plot(X, .003*np.exp(-.0018*X))\n",
    "plt.show()"
   ]
  },
  {
   "cell_type": "markdown",
   "id": "09253faa",
   "metadata": {},
   "source": [
    "Notice the Periodicity. Likley due to yearly turn around for each season or the way the data is recorded as years without month and date. This could be verified with more visualizations.\n",
    "\n",
    "Also, notice the exponential-like decay of job holders. Cool! This would possibly translate to every year people have a random, and independent of the past, chance of quiting that is more or less the same. More or less that is... \n",
    "\n",
    "More close up analysis is required (as it may have small bumps or more inverse power behavior) , but may be important in the ultimate parent goal of the project of job retention. "
   ]
  },
  {
   "cell_type": "code",
   "execution_count": 10,
   "id": "c696eac8",
   "metadata": {
    "ExecuteTime": {
     "end_time": "2021-10-29T11:09:58.072849Z",
     "start_time": "2021-10-29T11:09:57.998049Z"
    }
   },
   "outputs": [
    {
     "name": "stdout",
     "output_type": "stream",
     "text": [
      "Sorted values:\n",
      "\n",
      "247738   -54303.0\n",
      "170850   -16041.0\n",
      "77136    -12691.0\n",
      "315319   -12601.0\n",
      "176319   -12268.0\n",
      "           ...   \n",
      "377571        NaN\n",
      "377572        NaN\n",
      "377576        NaN\n",
      "377583        NaN\n",
      "377584        NaN\n",
      "Name: jobduration, Length: 377585, dtype: float64\n",
      "Examples:\n",
      "\n",
      "user_id        2ZqyX5k9cZmzulxrou6zbHAG1BvSkUYANepQVJd0smgtpB...\n",
      "jobtitle       owner_construction_representative_project_fiel...\n",
      "startdate                                    2158-05-06 00:00:00\n",
      "enddate                                      2009-09-01 00:00:00\n",
      "jobduration                                -54303 days +00:00:00\n",
      "Name: 247738, dtype: object\n",
      "user_id        lJwwedMiLpW57ysdkpnlLw4ZM3TcQvn1bQ/jHgHWG0kf/b...\n",
      "jobtitle       sales_marketing_intern_|_information_technolog...\n",
      "startdate                                    2013-12-01 00:00:00\n",
      "enddate                                      1969-12-31 00:00:00\n",
      "jobduration                                -16041 days +00:00:00\n",
      "Name: 170850, dtype: object\n",
      "user_id        RdpIvGafYesjpC30oOy+aw5+2cvffV/mNepQVJd0smgtpB...\n",
      "jobtitle                                     engineering_manager\n",
      "startdate                                    2015-10-01 00:00:00\n",
      "enddate                                      1981-01-01 00:00:00\n",
      "jobduration                                -12691 days +00:00:00\n",
      "Name: 77136, dtype: object\n"
     ]
    }
   ],
   "source": [
    "print(\"Sorted values:\" + '\\n')\n",
    "print((Pos.jobduration.dt.days).sort_values())\n",
    "\n",
    "print(\"Examples:\" + '\\n')\n",
    "\n",
    "print(Pos.iloc[247738])\n",
    "print(Pos.iloc[170850])\n",
    "print(Pos.iloc[77136])"
   ]
  },
  {
   "cell_type": "markdown",
   "id": "20139dfa",
   "metadata": {},
   "source": [
    "We can see that we have a few issues with job duration. We have negative entries, zero entries and null entries. \n",
    "\n",
    "There are many reasons for negative entries (such as reversal of start end dates or incorrect year), but the possibilities are too numerous so they likley will have to be dropped. "
   ]
  },
  {
   "cell_type": "code",
   "execution_count": 11,
   "id": "1c61b703",
   "metadata": {
    "ExecuteTime": {
     "end_time": "2021-10-29T11:09:58.120722Z",
     "start_time": "2021-10-29T11:09:58.074844Z"
    }
   },
   "outputs": [
    {
     "data": {
      "text/html": [
       "<div>\n",
       "<style scoped>\n",
       "    .dataframe tbody tr th:only-of-type {\n",
       "        vertical-align: middle;\n",
       "    }\n",
       "\n",
       "    .dataframe tbody tr th {\n",
       "        vertical-align: top;\n",
       "    }\n",
       "\n",
       "    .dataframe thead th {\n",
       "        text-align: right;\n",
       "    }\n",
       "</style>\n",
       "<table border=\"1\" class=\"dataframe\">\n",
       "  <thead>\n",
       "    <tr style=\"text-align: right;\">\n",
       "      <th></th>\n",
       "      <th>user_id</th>\n",
       "      <th>jobtitle</th>\n",
       "      <th>startdate</th>\n",
       "      <th>enddate</th>\n",
       "      <th>jobduration</th>\n",
       "    </tr>\n",
       "  </thead>\n",
       "  <tbody>\n",
       "    <tr>\n",
       "      <th>23</th>\n",
       "      <td>2GjvthKY91+eZ7VnbFQePHAG1BvSkUYANepQVJd0smgtpB...</td>\n",
       "      <td>amazon_warehouse_associate</td>\n",
       "      <td>2016-01-01</td>\n",
       "      <td>2016-01-01</td>\n",
       "      <td>0 days</td>\n",
       "    </tr>\n",
       "    <tr>\n",
       "      <th>33</th>\n",
       "      <td>MYldBNEckSRfZ59/Yo0QyQ5+2cvffV/mNepQVJd0smgtpB...</td>\n",
       "      <td>key_makeup_artist_hairstylist_actor</td>\n",
       "      <td>2017-02-01</td>\n",
       "      <td>2017-02-01</td>\n",
       "      <td>0 days</td>\n",
       "    </tr>\n",
       "    <tr>\n",
       "      <th>34</th>\n",
       "      <td>sXmVRmJYl5tYFCGeCUD/NA5+2cvffV/mNepQVJd0smgtpB...</td>\n",
       "      <td>commis_de_cuisine</td>\n",
       "      <td>2006-01-01</td>\n",
       "      <td>2006-01-01</td>\n",
       "      <td>0 days</td>\n",
       "    </tr>\n",
       "    <tr>\n",
       "      <th>60</th>\n",
       "      <td>mQ6pu4rozD/EufUIFsmQtA4ZM3TcQvn1bQ/jHgHWG0kf/b...</td>\n",
       "      <td>author_presenter</td>\n",
       "      <td>2008-01-01</td>\n",
       "      <td>2008-01-01</td>\n",
       "      <td>0 days</td>\n",
       "    </tr>\n",
       "    <tr>\n",
       "      <th>111</th>\n",
       "      <td>8kSefFmshKoHtT3ANru37g5+2cvffV/mNepQVJd0smgtpB...</td>\n",
       "      <td>production_assistant_runner</td>\n",
       "      <td>2014-02-01</td>\n",
       "      <td>2014-02-01</td>\n",
       "      <td>0 days</td>\n",
       "    </tr>\n",
       "  </tbody>\n",
       "</table>\n",
       "</div>"
      ],
      "text/plain": [
       "                                               user_id  \\\n",
       "23   2GjvthKY91+eZ7VnbFQePHAG1BvSkUYANepQVJd0smgtpB...   \n",
       "33   MYldBNEckSRfZ59/Yo0QyQ5+2cvffV/mNepQVJd0smgtpB...   \n",
       "34   sXmVRmJYl5tYFCGeCUD/NA5+2cvffV/mNepQVJd0smgtpB...   \n",
       "60   mQ6pu4rozD/EufUIFsmQtA4ZM3TcQvn1bQ/jHgHWG0kf/b...   \n",
       "111  8kSefFmshKoHtT3ANru37g5+2cvffV/mNepQVJd0smgtpB...   \n",
       "\n",
       "                                jobtitle  startdate    enddate jobduration  \n",
       "23            amazon_warehouse_associate 2016-01-01 2016-01-01      0 days  \n",
       "33   key_makeup_artist_hairstylist_actor 2017-02-01 2017-02-01      0 days  \n",
       "34                     commis_de_cuisine 2006-01-01 2006-01-01      0 days  \n",
       "60                      author_presenter 2008-01-01 2008-01-01      0 days  \n",
       "111          production_assistant_runner 2014-02-01 2014-02-01      0 days  "
      ]
     },
     "execution_count": 11,
     "metadata": {},
     "output_type": "execute_result"
    }
   ],
   "source": [
    "Pos[(Pos.jobduration == pd.Timedelta(\"0 days\"))].head(5)"
   ]
  },
  {
   "cell_type": "markdown",
   "id": "1a5165c5",
   "metadata": {},
   "source": [
    "Zeros are likley someone who just stayed at a job for less than year so they wrote just the same year once for the position. The average time for such a possibility is .25 - .5 years at the company. The other possibility is that the start date was just mistakenly rewritten into the end date. Looking at the sample above we see that it is most likley the first possibility as there are no repeat instances for a user_id even though the avergae number of positions per person is 2-3. Meaning this only happens for one of theor entries ussualy, not all of them.  "
   ]
  },
  {
   "cell_type": "markdown",
   "id": "f89f6115",
   "metadata": {},
   "source": [
    "The high range of 10,000 days is resonable as it is less than 28 years. "
   ]
  },
  {
   "cell_type": "markdown",
   "id": "693b8fe3",
   "metadata": {},
   "source": [
    "### Positions (start and end date)"
   ]
  },
  {
   "cell_type": "code",
   "execution_count": 12,
   "id": "c5875b9f",
   "metadata": {
    "ExecuteTime": {
     "end_time": "2021-10-29T11:09:59.886039Z",
     "start_time": "2021-10-29T11:09:58.122716Z"
    }
   },
   "outputs": [
    {
     "data": {
      "image/png": "[encoded data removed]",
      "text/plain": [
       "<Figure size 432x288 with 1 Axes>"
      ]
     },
     "metadata": {
      "needs_background": "light"
     },
     "output_type": "display_data"
    },
    {
     "name": "stdout",
     "output_type": "stream",
     "text": [
      "count                           368526\n",
      "mean     2009-01-29 23:25:03.570440192\n",
      "min                1817-09-01 00:00:00\n",
      "25%                2006-01-01 00:00:00\n",
      "50%                2011-04-01 00:00:00\n",
      "75%                2014-09-01 00:00:00\n",
      "max                2204-02-01 00:00:00\n",
      "Name: startdate, dtype: object\n"
     ]
    },
    {
     "data": {
      "image/png": "[encoded data removed]",
      "text/plain": [
       "<Figure size 432x288 with 1 Axes>"
      ]
     },
     "metadata": {
      "needs_background": "light"
     },
     "output_type": "display_data"
    },
    {
     "data": {
      "text/plain": [
       "count                           270354\n",
       "mean     2010-05-23 17:12:14.477019136\n",
       "min                1900-01-01 00:00:00\n",
       "25%                2007-09-01 00:00:00\n",
       "50%                2012-02-01 00:00:00\n",
       "75%                2015-02-01 00:00:00\n",
       "max                2098-01-01 00:00:00\n",
       "Name: enddate, dtype: object"
      ]
     },
     "execution_count": 12,
     "metadata": {},
     "output_type": "execute_result"
    }
   ],
   "source": [
    "plt.hist(Pos.startdate, density = True,bins = int((Pos.jobduration.size)**.45))\n",
    "plt.title('Job Start_Date Histogram')\n",
    "plt.ylabel('Percentage Prevalence')\n",
    "plt.xlabel('Occurance')\n",
    "plt.show()\n",
    "\n",
    "print(Pos.startdate.describe(datetime_is_numeric=True))\n",
    "\n",
    "plt.hist(Pos.enddate, density = True,bins = int((Pos.jobduration.size)**.45))\n",
    "plt.title('Job End_Date Histogram')\n",
    "plt.ylabel('Percentage Prevalence')\n",
    "plt.xlabel('Occurance')\n",
    "plt.show()\n",
    "\n",
    "Pos.enddate.describe(datetime_is_numeric=True)"
   ]
  },
  {
   "cell_type": "markdown",
   "id": "50c7713f",
   "metadata": {},
   "source": [
    "The position start dates have ranges that are impractical. The end dates are also empty at times because there was no termination to date (current day) at the time of recording the data. "
   ]
  },
  {
   "cell_type": "markdown",
   "id": "3a08d82d",
   "metadata": {
    "ExecuteTime": {
     "end_time": "2021-10-25T22:42:33.204941Z",
     "start_time": "2021-10-25T22:42:33.198319Z"
    }
   },
   "source": [
    "### Education (duration)"
   ]
  },
  {
   "cell_type": "code",
   "execution_count": 13,
   "id": "8c3c7d56",
   "metadata": {
    "ExecuteTime": {
     "end_time": "2021-10-29T11:10:00.701516Z",
     "start_time": "2021-10-29T11:09:59.888006Z"
    }
   },
   "outputs": [
    {
     "data": {
      "image/png": "[encoded data removed]",
      "text/plain": [
       "<Figure size 432x288 with 1 Axes>"
      ]
     },
     "metadata": {
      "needs_background": "light"
     },
     "output_type": "display_data"
    },
    {
     "data": {
      "image/png": "[encoded data removed]",
      "text/plain": [
       "<Figure size 432x288 with 1 Axes>"
      ]
     },
     "metadata": {
      "needs_background": "light"
     },
     "output_type": "display_data"
    },
    {
     "name": "stdout",
     "output_type": "stream",
     "text": [
      "count    189246.000000\n",
      "mean       1119.311452\n",
      "std         960.389051\n",
      "min      -13514.000000\n",
      "25%         730.000000\n",
      "50%        1096.000000\n",
      "75%        1461.000000\n",
      "max       76699.000000\n",
      "Name: degduration, dtype: float64\n",
      "\n",
      "Examples greater than 4000 days (approx. 11 years):\n",
      "\n",
      "17      5113.0\n",
      "81      4018.0\n",
      "249     4383.0\n",
      "289    12783.0\n",
      "346     6940.0\n",
      "347     4748.0\n",
      "685     4018.0\n",
      "690     4748.0\n",
      "705    14975.0\n",
      "771     4018.0\n",
      "Name: degduration, dtype: float64\n",
      "\n",
      "Looking at a couple full entries:\n",
      "\n",
      "user_id        rRV4R2AmBxB+1pMZ61Wm4Q4ZM3TcQvn1bQ/jHgHWG0kf/b...\n",
      "major                                           Bachelors Degree\n",
      "startdate                                    1997-01-01 00:00:00\n",
      "enddate                                      2011-01-01 00:00:00\n",
      "degduration                                   5113 days 00:00:00\n",
      "Name: 17, dtype: object\n",
      "user_id        5bdDBEJ3x5rZHkRCcKWOtA4ZM3TcQvn1bQ/jHgHWG0kf/b...\n",
      "major                                                High School\n",
      "startdate                                    1975-01-01 00:00:00\n",
      "enddate                                      1988-01-01 00:00:00\n",
      "degduration                                   4748 days 00:00:00\n",
      "Name: 690, dtype: object\n"
     ]
    }
   ],
   "source": [
    "plt.hist(Edu.degduration.dt.days, density = True,bins = int((Edu.degduration.size)**.35), range = [0,15000])\n",
    "plt.title('Degree Aquisition Duration Histogram')\n",
    "plt.ylabel('Percentage Prevalence')\n",
    "plt.xlabel('Days Duration')\n",
    "\n",
    "plt.show()\n",
    "\n",
    "plt.hist(Edu.degduration.dt.days, density = True,bins = int((Edu.degduration.size)**.35), range = [1800,15000])\n",
    "plt.title('Degree Aquisition Duration > 5 years')\n",
    "plt.ylabel('Percentage Prevalence')\n",
    "plt.xlabel('Days Duration')\n",
    "\n",
    "plt.show()\n",
    "\n",
    "# The most extreme degree duration times\n",
    "\n",
    "print(Edu.degduration.dt.days[~Edu.degduration.isnull()].describe())\n",
    "\n",
    "# examples of greater than 4000 day durations (about 11 years) for a degree\n",
    "print('\\n' + \"Examples greater than 4000 days (approx. 11 years):\" + '\\n')\n",
    "print(Edu.degduration.dt.days[Edu.degduration.dt.days > 4000].head(10))\n",
    "\n",
    "print('\\n' + 'Looking at a couple full entries:' '\\n')\n",
    "print(Edu.iloc[17])\n",
    "print(Edu.iloc[690])"
   ]
  },
  {
   "cell_type": "markdown",
   "id": "280ffd65",
   "metadata": {},
   "source": [
    "We note a couple of interesting things:\n",
    "1. Some of the degrees take an enormous amount of time. Many of these are actually their pre-university school achievement namely 1st - 12th grades. See second example above. The other kind is very long standing degrees. The longest type of appropriate degrees are Ph.D.'s which we cap at 10 years. This will be filtered in the later section. \n",
    "2. We notice that the 'High School' label is actually a great determinant of age as little is likley to interrupt their progess to school graduation as apposed to later achivements. "
   ]
  },
  {
   "cell_type": "markdown",
   "id": "8dd09e38",
   "metadata": {},
   "source": [
    "### Education (start and end date)"
   ]
  },
  {
   "cell_type": "code",
   "execution_count": 14,
   "id": "627400be",
   "metadata": {
    "ExecuteTime": {
     "end_time": "2021-10-29T11:10:01.808563Z",
     "start_time": "2021-10-29T11:10:00.703475Z"
    }
   },
   "outputs": [
    {
     "data": {
      "image/png": "[encoded data removed]",
      "text/plain": [
       "<Figure size 432x288 with 1 Axes>"
      ]
     },
     "metadata": {
      "needs_background": "light"
     },
     "output_type": "display_data"
    },
    {
     "name": "stdout",
     "output_type": "stream",
     "text": [
      "count                           197556\n",
      "mean     2001-10-12 02:18:10.736803584\n",
      "min                1735-01-01 00:00:00\n",
      "25%                1996-01-01 00:00:00\n",
      "50%                2005-01-01 00:00:00\n",
      "75%                2010-01-01 00:00:00\n",
      "max                2021-01-01 00:00:00\n",
      "Name: startdate, dtype: object\n"
     ]
    },
    {
     "data": {
      "image/png": "[encoded data removed]",
      "text/plain": [
       "<Figure size 432x288 with 1 Axes>"
      ]
     },
     "metadata": {
      "needs_background": "light"
     },
     "output_type": "display_data"
    },
    {
     "name": "stdout",
     "output_type": "stream",
     "text": [
      "count                           190658\n",
      "mean     2004-08-13 15:12:13.111644800\n",
      "min                1900-01-01 00:00:00\n",
      "25%                1999-01-01 00:00:00\n",
      "50%                2008-01-01 00:00:00\n",
      "75%                2013-01-01 00:00:00\n",
      "max                2025-01-01 00:00:00\n",
      "Name: enddate, dtype: object\n",
      "\n",
      "Highest 100 start date entries:\n",
      "175138   2019-01-01\n",
      "36577    2019-01-01\n",
      "182641   2019-01-01\n",
      "122105   2019-01-01\n",
      "7097     2019-01-01\n",
      "            ...    \n",
      "171797   2021-01-01\n",
      "28510    2021-01-01\n",
      "111371   2021-01-01\n",
      "182857   2021-01-01\n",
      "86276    2021-01-01\n",
      "Name: startdate, Length: 100, dtype: datetime64[ns]\n",
      "\n",
      "Highest 100 end date entries:\n",
      "133640   2022-01-01\n",
      "106839   2022-01-01\n",
      "26881    2022-01-01\n",
      "33615    2022-01-01\n",
      "102379   2022-01-01\n",
      "            ...    \n",
      "27109    2025-01-01\n",
      "87629    2025-01-01\n",
      "31691    2025-01-01\n",
      "22219    2025-01-01\n",
      "218777   2025-01-01\n",
      "Name: enddate, Length: 100, dtype: datetime64[ns]\n"
     ]
    }
   ],
   "source": [
    "plt.hist(Edu.startdate, density = True,bins = int((Edu.startdate.size)**.41))\n",
    "plt.title('Degree Start_Date Histogram')\n",
    "plt.ylabel('Percentage Prevalence')\n",
    "plt.xlabel('Occurance')\n",
    "plt.show()\n",
    "\n",
    "print(Edu.startdate.describe(datetime_is_numeric=True))\n",
    "\n",
    "plt.hist(Edu.enddate, density = True,bins = int((Edu.enddate.size)**.45))\n",
    "plt.title('Job End_Date Histogram')\n",
    "plt.ylabel('Percentage Prevalence')\n",
    "plt.xlabel('Occurance')\n",
    "plt.show()\n",
    "\n",
    "print(Edu.enddate.describe(datetime_is_numeric=True))\n",
    "\n",
    "print('\\n'+ \"Highest 100 start date entries:\")\n",
    "print(Edu.startdate.sort_values(na_position = 'first').tail(100))\n",
    "\n",
    "print('\\n'+ \"Highest 100 end date entries:\")\n",
    "print(Edu.enddate.sort_values(na_position = 'first').tail(100))\n"
   ]
  },
  {
   "cell_type": "markdown",
   "id": "b6fc47a1",
   "metadata": {},
   "source": [
    "Both have inappropriate ranges in the far past. Note the future entries seem to be expected graduation dates."
   ]
  },
  {
   "cell_type": "markdown",
   "id": "d531747b",
   "metadata": {},
   "source": [
    "## 2. Data Cleaning"
   ]
  },
  {
   "cell_type": "markdown",
   "id": "24bb8959",
   "metadata": {},
   "source": [
    "Some of our data entries have holes in the features we plan on using to determine the age. We can appraoch null entries two ways:\n",
    "1. We can just delete incomplete data entries from our set. This deletion has the downside of possibly criticaly reducing our data set if even one element is missing. Additionally we may want to determine the age of someone who has incomplete data. (Easy)\n",
    "\n",
    "2. We can replace missing entries with some intelligently \"neutral\" replacement that will be handled well in the learning phase. (Hard)"
   ]
  },
  {
   "cell_type": "code",
   "execution_count": 15,
   "id": "7b717a91",
   "metadata": {
    "ExecuteTime": {
     "end_time": "2021-10-29T11:10:01.824521Z",
     "start_time": "2021-10-29T11:10:01.810564Z"
    }
   },
   "outputs": [
    {
     "name": "stdout",
     "output_type": "stream",
     "text": [
      "Number of degrees with no time stamp: 36938\n",
      "Number of jobs with no time stamp: 107280\n"
     ]
    }
   ],
   "source": [
    "# number of degrees with no time stamp\n",
    "\n",
    "noedu = Edu.degduration.isnull()\n",
    "print(\"Number of degrees with no time stamp:\", np.sum(noedu))\n",
    "\n",
    "# number of jobs with no time stamp\n",
    "\n",
    "nojob = Pos.jobduration.isnull()\n",
    "print(\"Number of jobs with no time stamp:\", np.sum(nojob))"
   ]
  },
  {
   "cell_type": "code",
   "execution_count": 16,
   "id": "aaea0468",
   "metadata": {
    "ExecuteTime": {
     "end_time": "2021-10-29T11:10:01.855436Z",
     "start_time": "2021-10-29T11:10:01.826513Z"
    }
   },
   "outputs": [
    {
     "name": "stdout",
     "output_type": "stream",
     "text": [
      "Number of degrees with same start-end time stamp: 16872\n",
      "Number of jobs with same start-end time stamp: 7352\n"
     ]
    }
   ],
   "source": [
    "# number of degrees with same start-end time stamp\n",
    "\n",
    "edusame = Edu.degduration == pd.Timedelta(\"0 days\")\n",
    "print(\"Number of degrees with same start-end time stamp:\",np.sum(edusame))\n",
    "\n",
    "# number of jobs with same start-end time stamp\n",
    "\n",
    "jobsame = (Pos.jobduration == pd.Timedelta(\"0 days\"))\n",
    "print(\"Number of jobs with same start-end time stamp:\",np.sum(jobsame))\n",
    "\n"
   ]
  },
  {
   "cell_type": "markdown",
   "id": "4161d82e",
   "metadata": {},
   "source": [
    "### Position"
   ]
  },
  {
   "cell_type": "markdown",
   "id": "0a027174",
   "metadata": {},
   "source": [
    "There seems to be a sharp drop off of end dates and start dates around Feb. 2019. I assume thats around when the data was collected and finalized.\n",
    "\n",
    "I filter out:\n",
    "\n",
    "Entries with jobs starting or ending after May 2019 and anything starting before 1940 which is approximatley 80 years ago. See visualization section. I also keep all 'Null' type values as they are important in feature creation later. I will deal with these values later after merging. \n",
    "\n",
    "Entries with job durations that are negative or 'Null' due to *both* missing start and end dates for the entry."
   ]
  },
  {
   "cell_type": "code",
   "execution_count": 17,
   "id": "df43f977",
   "metadata": {
    "ExecuteTime": {
     "end_time": "2021-10-29T11:10:01.950235Z",
     "start_time": "2021-10-29T11:10:01.857432Z"
    }
   },
   "outputs": [
    {
     "name": "stdout",
     "output_type": "stream",
     "text": [
      "number of removed entries:\n",
      "Condition 1: 39\n",
      "Condition 2: 9\n",
      "Condition 3: 10265\n",
      "Total: 10313\n"
     ]
    }
   ],
   "source": [
    "# Removing extreme dates before 1940 and in the \"future\" after May 2019, we keep 'Null' values\n",
    "\n",
    "# Conditions for removal\n",
    "\n",
    "condition1 = ((Pos.startdate > '1940-01-01') & (Pos.startdate < '2019-06-01')) | (Pos.startdate.isnull())\n",
    "condition2 = ((Pos.enddate > '1940-01-01') & (Pos.enddate < '2019-06-01')) | (Pos.enddate.isnull())\n",
    "condition3 = (Pos.jobduration.dt.days > -1) | (Pos.startdate.isnull() & Pos.enddate.notnull()) | (Pos.startdate.notnull() & Pos.enddate.isnull()) \n",
    "\n",
    "# Replace, having deleted entries of Position dataframe\n",
    "\n",
    "Pos = Pos[(condition1 & condition2 & condition3)]\n",
    "\n",
    "\n",
    "print(\"number of removed entries:\")\n",
    "print('Condition 1:',np.sum(~condition1))\n",
    "print('Condition 2:',np.sum(~condition2))\n",
    "print('Condition 3:',np.sum(~condition3))\n",
    "\n",
    "print('Total:',np.sum(~condition1)+np.sum(~condition2)+np.sum(~condition3))"
   ]
  },
  {
   "cell_type": "markdown",
   "id": "ea7d8665",
   "metadata": {},
   "source": [
    "Many jobs have the same starting and end date, likley because the job was under one year and they only wrote their year in (which defaults to the beginning of the year). I will switch these to the next year with give them about a 6 month average duration.\n",
    "Some jobs may have not put an ending date becuase they never left their jobs. We do not want to eliminate these positions. "
   ]
  },
  {
   "cell_type": "code",
   "execution_count": 18,
   "id": "da69dc3c",
   "metadata": {
    "ExecuteTime": {
     "end_time": "2021-10-29T11:10:02.060886Z",
     "start_time": "2021-10-29T11:10:01.952178Z"
    }
   },
   "outputs": [
    {
     "name": "stdout",
     "output_type": "stream",
     "text": [
      "                       jobduration\n",
      "count                        91000\n",
      "mean   154 days 11:33:55.305494502\n",
      "std    101 days 06:38:23.432381193\n",
      "min                0 days 00:00:00\n",
      "25%               61 days 00:00:00\n",
      "50%              151 days 00:00:00\n",
      "75%              243 days 00:00:00\n",
      "max              364 days 00:00:00\n",
      "\n",
      " Number of Jobs with same start-end date: 7351\n"
     ]
    }
   ],
   "source": [
    "# For data we have calculating the distribution of job length when we know its under a year\n",
    "print(Pos[Pos.jobduration.dt.days < 365].describe())\n",
    "\n",
    "# index of entries where start end end date are the same\n",
    "ind = (Pos.jobduration.dt.days == 0)\n",
    "print('\\n',\"Number of Jobs with same start-end date:\",np.sum(Pos.jobduration.dt.days == 0))\n",
    "\n",
    "# change the end date to next year\n",
    "Pos.enddate[ind] = Pos.startdate[ind] + pd.Timedelta(\"365 days\")\n",
    "\n",
    "# change the job duration to 150 days\n",
    "Pos.jobduration[ind] = pd.Timedelta(\"150 days\")"
   ]
  },
  {
   "cell_type": "markdown",
   "id": "9e4af259",
   "metadata": {},
   "source": [
    "Additionally, we are going to calculate the date in which we can say they probably have not left their job yet and fill it out with the average time at a job (instead of removing the entries)."
   ]
  },
  {
   "cell_type": "code",
   "execution_count": 19,
   "id": "03310260",
   "metadata": {
    "ExecuteTime": {
     "end_time": "2021-10-29T11:10:04.642049Z",
     "start_time": "2021-10-29T11:10:02.061885Z"
    }
   },
   "outputs": [
    {
     "data": {
      "image/png": "[encoded data removed]",
      "text/plain": [
       "<Figure size 432x288 with 1 Axes>"
      ]
     },
     "metadata": {
      "needs_background": "light"
     },
     "output_type": "display_data"
    },
    {
     "data": {
      "image/png": "[encoded data removed]",
      "text/plain": [
       "<Figure size 432x288 with 1 Axes>"
      ]
     },
     "metadata": {
      "needs_background": "light"
     },
     "output_type": "display_data"
    },
    {
     "data": {
      "image/png": "[encoded data removed]",
      "text/plain": [
       "<Figure size 432x288 with 1 Axes>"
      ]
     },
     "metadata": {
      "needs_background": "light"
     },
     "output_type": "display_data"
    }
   ],
   "source": [
    "# normal entries and entries with only missing end dates\n",
    "N = Pos.startdate\n",
    "M = Pos.startdate[(Pos.startdate.notnull() & Pos.enddate.isnull())]\n",
    "\n",
    "plt.hist(N,bins = int((Pos.jobduration.size)**.5))\n",
    "plt.hist(M,bins = int((Pos.jobduration.size)**.45))\n",
    "plt.title('Job Start_Date Histogram')\n",
    "plt.ylabel('Percentage Prevalence')\n",
    "plt.xlabel('Year')\n",
    "plt.legend(['Normal Entries','Entries missing End Dates'])\n",
    "plt.show()\n",
    "\n",
    "# Converts datetime to seconds\n",
    "def tickers(dt):\n",
    "    return (dt - datetime(1970, 1, 1)) / timedelta(seconds=1)\n",
    "\n",
    "#ignoring matplotlib warning\n",
    "import warnings\n",
    "warnings.filterwarnings(\"ignore\")\n",
    "\n",
    "# removing the 'Null' values\n",
    "N = Pos.startdate[np.isfinite(Pos.startdate)]\n",
    "N_sec = tickers(N)\n",
    "M_sec = tickers(M)\n",
    "# left right boundry of grid\n",
    "left  = np.min(N_sec)\n",
    "right = np.max(M_sec)\n",
    "#number of bins\n",
    "b = 100\n",
    "X = np.linspace(left,right,b)\n",
    "Y1,X1 = np.histogram(N_sec, bins = b)\n",
    "Y2,X2 = np.histogram(M_sec, bins = X1)\n",
    "#converts grid from seconds back to years\n",
    "X = 1970 + X/31536000\n",
    "#number of left bins to skip\n",
    "s = b//4\n",
    "\n",
    "plt.plot(X[s:],Y1[s:])\n",
    "plt.plot(X[s:],Y2[s:])\n",
    "plt.title('Job Start_Date Plot')\n",
    "plt.ylabel('Prevalence')\n",
    "plt.xlabel('Year')\n",
    "plt.legend(['Normal Entries','Entries missing End Dates'])\n",
    "plt.show()\n",
    "\n",
    "#partial probability distribution\n",
    "# 'd'                    : probability randomly missed end date entry\n",
    "# 'a*np.exp(b*(year-c))' : probability job did not come to term\n",
    "def p(year):\n",
    "    a = .05\n",
    "    b = .3\n",
    "    c = 2010\n",
    "    d = .115\n",
    "    return a*np.exp(b*(year-c))+d\n",
    "\n",
    "plt.plot(X[s:],(Y2/Y1)[s:], color = 'r')\n",
    "plt.plot(X[s:],p(X[s:]), color = 'k')\n",
    "plt.title('Ratio of Missing End Dates to Total Entries')\n",
    "plt.ylabel('Percetage')\n",
    "plt.xlabel('Year')\n",
    "plt.legend(['Real Ratio','Model'])\n",
    "plt.ylim([0, 1])\n",
    "plt.show()"
   ]
  },
  {
   "cell_type": "markdown",
   "id": "45a80ea7",
   "metadata": {},
   "source": [
    "We clearly see that there is an abvious uptick in the ratio after 2010. Usually around 12% of people enevitably miss recording an end date no matter the era. The reason we see an uptick close to the end is likely due to those jobs not have not come to term. We even explicitly construct a probabilty function over time that tells us how likley that person just forgot or just has not finshed their job. "
   ]
  },
  {
   "cell_type": "code",
   "execution_count": 20,
   "id": "4b3a55da",
   "metadata": {
    "ExecuteTime": {
     "end_time": "2021-10-29T11:10:04.703836Z",
     "start_time": "2021-10-29T11:10:04.643992Z"
    }
   },
   "outputs": [
    {
     "name": "stdout",
     "output_type": "stream",
     "text": [
      "Average time at a job:\n",
      "count                          269030\n",
      "mean      971 days 03:45:18.325837296\n",
      "std      1309 days 20:52:08.910555552\n",
      "min                  28 days 00:00:00\n",
      "25%                 242 days 00:00:00\n",
      "50%                 577 days 00:00:00\n",
      "75%                1156 days 00:00:00\n",
      "max               24472 days 00:00:00\n",
      "Name: jobduration, dtype: object\n",
      "Number of people with no end date after 2017 (as 3 years ):\n",
      "22262\n"
     ]
    }
   ],
   "source": [
    "print('Average time at a job:')\n",
    "print(Pos.jobduration.describe())\n",
    "print('Number of people with no end date after 2017 (as 3 years ):')\n",
    "print(np.sum(Pos.enddate[Pos.startdate > '2017-01-01'].isnull()))"
   ]
  },
  {
   "cell_type": "markdown",
   "id": "cbe62951",
   "metadata": {},
   "source": [
    "I may replace missing end dates with the mean or something more sophisticated, not sure yet. This also would effect he job duration feature. I can remove them to start and chanage it afterward."
   ]
  },
  {
   "cell_type": "markdown",
   "id": "1ea2f580",
   "metadata": {},
   "source": [
    "### Education"
   ]
  },
  {
   "cell_type": "markdown",
   "id": "cdbb58e5",
   "metadata": {},
   "source": [
    "Remove Values before 1940 in both start and end dates. Future values seem to be in order. See visulaization."
   ]
  },
  {
   "cell_type": "code",
   "execution_count": 21,
   "id": "0c536402",
   "metadata": {
    "ExecuteTime": {
     "end_time": "2021-10-29T11:10:04.765666Z",
     "start_time": "2021-10-29T11:10:04.705828Z"
    }
   },
   "outputs": [
    {
     "name": "stdout",
     "output_type": "stream",
     "text": [
      "number of removed entries:\n",
      "Condition 1: 43\n",
      "Condition 2: 17\n",
      "Condition 3: 27424\n",
      "Total: 27484\n"
     ]
    }
   ],
   "source": [
    "# Removing extreme dates before 1940, we remove 'Null' values although we have recorded the number in advance.\n",
    "\n",
    "# Conditions for removal\n",
    "\n",
    "condition1 = ((Edu.startdate > '1940-01-01') | (Edu.startdate.isnull()))\n",
    "condition2 = ((Edu.enddate > '1940-01-01') | (Edu.enddate.isnull()))\n",
    "#condition3 = (Edu.degduration.dt.days > -1) #gets rid of all negative and null values\n",
    "condition3 = (Edu.degduration.dt.days > -1) | (Edu.startdate.isnull() & Edu.enddate.notnull()) | (Edu.startdate.notnull() & Edu.enddate.isnull()) #gets rid of all negative and null values\n",
    "\n",
    "# Replace, having deleted entries of Position dataframe\n",
    "\n",
    "Edu = Edu[(condition1 & condition2 & condition3)]\n",
    "\n",
    "\n",
    "print(\"number of removed entries:\")\n",
    "print('Condition 1:',np.sum(~condition1))\n",
    "print('Condition 2:',np.sum(~condition2))\n",
    "print('Condition 3:',np.sum(~condition3))\n",
    "\n",
    "print('Total:',np.sum(~condition1)+np.sum(~condition2)+np.sum(~condition3))"
   ]
  },
  {
   "cell_type": "markdown",
   "id": "5c4963da",
   "metadata": {},
   "source": [
    "## 3. Feature Creation"
   ]
  },
  {
   "cell_type": "markdown",
   "id": "64723b6a",
   "metadata": {},
   "source": [
    "### Max Time in Workforce"
   ]
  },
  {
   "cell_type": "markdown",
   "id": "1656e88d",
   "metadata": {},
   "source": [
    "Here we create a feature that tells us how long the person has been involved with jobs from ealiest position to latest.\n",
    "\n",
    "(Optional) We also create the possibilty if the max start date outways the last end date to replace it."
   ]
  },
  {
   "cell_type": "code",
   "execution_count": 22,
   "id": "89ef870c",
   "metadata": {
    "ExecuteTime": {
     "end_time": "2021-10-29T11:10:05.571242Z",
     "start_time": "2021-10-29T11:10:04.766663Z"
    }
   },
   "outputs": [],
   "source": [
    "# Dataframe list for both the start of the first job\n",
    "# and the end date of their last job\n",
    "\n",
    "first_start = Pos.groupby('user_id').agg({'startdate': [np.min]})\n",
    "first_start = first_start['startdate']['amin']\n",
    "\n",
    "inter = Pos.groupby('user_id').agg({'startdate': [np.max]})\n",
    "inter = inter['startdate']['amax']\n",
    "\n",
    "last_end = Pos.groupby('user_id').agg({'enddate': [np.max]})\n",
    "last_end = last_end['enddate']['amax']\n",
    "\n",
    "# (Optional)\n",
    "# If missing end date leads to higher start date than highest end date: replace\n",
    "key = ((inter > last_end) | last_end.isnull())\n",
    "last_end[key] = inter\n",
    "\n",
    "# Joins the two data frames by user ID of critical extreme values\n",
    "crt_work = pd.merge(first_start,last_end, on = 'user_id', how = 'outer')\n",
    "#one final null pass\n",
    "crt_work = crt_work.loc[crt_work.amin.notnull()]\n",
    "crt_work = crt_work.loc[crt_work.amax.notnull()]\n",
    "crt_work\n",
    "\n",
    "#max lifetime part of the workplace\n",
    "max_work = crt_work['amax'] - crt_work['amin']\n",
    "max_work = max_work.rename(\"max_work\")"
   ]
  },
  {
   "cell_type": "markdown",
   "id": "65fc0cbb",
   "metadata": {},
   "source": [
    "Note that we can be missing information here if the final end date is missing, for a number of reasons, such as the job is still ongoing. We leave information on the table because it does not account for at least the start date of the final job. This can be coded in with a bit more work but I assume its effects are minimal.  "
   ]
  },
  {
   "cell_type": "markdown",
   "id": "fd73fa97",
   "metadata": {},
   "source": [
    "### Accumulated Studies"
   ]
  },
  {
   "cell_type": "markdown",
   "id": "e3b68017",
   "metadata": {},
   "source": [
    "We include a feature that can be described as amount of time spent studying. This an accumulation of time spent studing not a simple distance in time. It discludes gaps between studies or even has a higher count for parallel studies. "
   ]
  },
  {
   "cell_type": "code",
   "execution_count": 23,
   "id": "d763a945",
   "metadata": {
    "ExecuteTime": {
     "end_time": "2021-10-29T11:10:07.731226Z",
     "start_time": "2021-10-29T11:10:05.572245Z"
    }
   },
   "outputs": [],
   "source": [
    "acc_stu = (Edu.fillna(pd.Timedelta(\"0 days\"))).groupby('user_id').agg({'degduration': [np.sum]})\n",
    "acc_stu = acc_stu['degduration']['sum']\n",
    "acc_stu = acc_stu.rename(\"acc_stu\")\n",
    "#(acc_stu/pd.Timedelta(\"1 days\")).plot.hist(bins = 100)"
   ]
  },
  {
   "cell_type": "markdown",
   "id": "e1109804",
   "metadata": {},
   "source": [
    "### Max-Average/Mixed Seniority"
   ]
  },
  {
   "cell_type": "markdown",
   "id": "39134298",
   "metadata": {},
   "source": [
    "We need to reduce seniority scores to one number for each person for a few reasons:\n",
    "\n",
    "1. The simplest and most obvious is just to extract the highest score for the person.\n",
    "\n",
    "2. Yet the former assumes high confidence in the scores. Therefore an average score may be better. \n",
    "\n",
    "3. The final idea is that a weighted sum sort of score is ideal. We can base it on the number of scores, with increasing or diminishing returns.\n"
   ]
  },
  {
   "cell_type": "code",
   "execution_count": 24,
   "id": "93d5e71e",
   "metadata": {
    "ExecuteTime": {
     "end_time": "2021-10-29T11:10:08.080426Z",
     "start_time": "2021-10-29T11:10:07.732293Z"
    }
   },
   "outputs": [
    {
     "data": {
      "text/html": [
       "<div>\n",
       "<style scoped>\n",
       "    .dataframe tbody tr th:only-of-type {\n",
       "        vertical-align: middle;\n",
       "    }\n",
       "\n",
       "    .dataframe tbody tr th {\n",
       "        vertical-align: top;\n",
       "    }\n",
       "\n",
       "    .dataframe thead tr th {\n",
       "        text-align: left;\n",
       "    }\n",
       "</style>\n",
       "<table border=\"1\" class=\"dataframe\">\n",
       "  <thead>\n",
       "    <tr>\n",
       "      <th></th>\n",
       "      <th colspan=\"2\" halign=\"left\">seniority</th>\n",
       "    </tr>\n",
       "    <tr>\n",
       "      <th></th>\n",
       "      <th>amax</th>\n",
       "      <th>mean</th>\n",
       "    </tr>\n",
       "  </thead>\n",
       "  <tbody>\n",
       "    <tr>\n",
       "      <th>count</th>\n",
       "      <td>100000.000000</td>\n",
       "      <td>100000.000000</td>\n",
       "    </tr>\n",
       "    <tr>\n",
       "      <th>mean</th>\n",
       "      <td>5.555866</td>\n",
       "      <td>4.237419</td>\n",
       "    </tr>\n",
       "    <tr>\n",
       "      <th>std</th>\n",
       "      <td>2.177644</td>\n",
       "      <td>1.489968</td>\n",
       "    </tr>\n",
       "    <tr>\n",
       "      <th>min</th>\n",
       "      <td>0.140639</td>\n",
       "      <td>0.140639</td>\n",
       "    </tr>\n",
       "    <tr>\n",
       "      <th>25%</th>\n",
       "      <td>4.213699</td>\n",
       "      <td>3.313264</td>\n",
       "    </tr>\n",
       "    <tr>\n",
       "      <th>50%</th>\n",
       "      <td>5.182183</td>\n",
       "      <td>4.080006</td>\n",
       "    </tr>\n",
       "    <tr>\n",
       "      <th>75%</th>\n",
       "      <td>6.646630</td>\n",
       "      <td>4.953036</td>\n",
       "    </tr>\n",
       "    <tr>\n",
       "      <th>max</th>\n",
       "      <td>29.186301</td>\n",
       "      <td>29.186301</td>\n",
       "    </tr>\n",
       "  </tbody>\n",
       "</table>\n",
       "</div>"
      ],
      "text/plain": [
       "           seniority               \n",
       "                amax           mean\n",
       "count  100000.000000  100000.000000\n",
       "mean        5.555866       4.237419\n",
       "std         2.177644       1.489968\n",
       "min         0.140639       0.140639\n",
       "25%         4.213699       3.313264\n",
       "50%         5.182183       4.080006\n",
       "75%         6.646630       4.953036\n",
       "max        29.186301      29.186301"
      ]
     },
     "execution_count": 24,
     "metadata": {},
     "output_type": "execute_result"
    }
   ],
   "source": [
    "max_seni = Sen.groupby('user_id').agg({'seniority': [np.max,np.mean]})\n",
    "max_seni.describe()"
   ]
  },
  {
   "cell_type": "markdown",
   "id": "c34847b2",
   "metadata": {},
   "source": [
    "### Earliest Activity"
   ]
  },
  {
   "cell_type": "markdown",
   "id": "d2b32f49",
   "metadata": {},
   "source": [
    "Here we create a baseline for each person of their earliest (or a weighted version) recorded activity the reported whether a degree or a job. We will start with degree."
   ]
  },
  {
   "cell_type": "code",
   "execution_count": 25,
   "id": "89bd310d",
   "metadata": {
    "ExecuteTime": {
     "end_time": "2021-10-29T11:10:08.319977Z",
     "start_time": "2021-10-29T11:10:08.081423Z"
    }
   },
   "outputs": [
    {
     "data": {
      "text/plain": [
       "user_id\n",
       "++5SW5MI5/h8X1hMA3QnmQ4ZM3TcQvn1bQ/jHgHWG0kf/bHrn17MPg==    1672.5312\n",
       "++5qk2+uEmkI/3Z4FrBwDw4ZM3TcQvn1bQ/jHgHWG0kf/bHrn17MPg==    2461.4496\n",
       "++6+hv3i5RAVsrWO8q5JEQ5+2cvffV/mNepQVJd0smgtpBr4MGMFJQ==    3660.5952\n",
       "++6zEVtPCi83vpPTHSY2Vg5+2cvffV/mNepQVJd0smgtpBr4MGMFJQ==    3345.0624\n",
       "++7kB6m0hI1TgAPmyY1X6A5+2cvffV/mNepQVJd0smgtpBr4MGMFJQ==    3061.0656\n",
       "                                                              ...    \n",
       "zzdHAVxl9iQrwom22S/FLg5+2cvffV/mNepQVJd0smgtpBr4MGMFJQ==    2966.3712\n",
       "zzrNxfUzwZXNkSs15haLyA4ZM3TcQvn1bQ/jHgHWG0kf/bHrn17MPg==    2587.6800\n",
       "zzrbQXjc2yHwbWjtQ9F3mg5+2cvffV/mNepQVJd0smgtpBr4MGMFJQ==    3534.3648\n",
       "zzuZVPanBvW09lNk1C3h+Q5+2cvffV/mNepQVJd0smgtpBr4MGMFJQ==    3597.5232\n",
       "zzvZxBSf81furoFl3PcSuHAG1BvSkUYANepQVJd0smgtpBr4MGMFJQ==    3818.4480\n",
       "Name: fir_tick, Length: 89701, dtype: float64"
      ]
     },
     "execution_count": 25,
     "metadata": {},
     "output_type": "execute_result"
    }
   ],
   "source": [
    "#earliest degree's end\n",
    "\n",
    "fir_deg = Edu.groupby('user_id').agg({'enddate': [np.min]})\n",
    "fir_deg = fir_deg['enddate']['amin']\n",
    "# inter2 = Edu.groupby('user_id').agg({'enddate': [np.min]})\n",
    "# inter2 = inter2['enddate']['amin']\n",
    "#inter2[(inter2 < beg_deg)]\n",
    "fir_deg = fir_deg[fir_deg.notnull()]\n",
    "\n",
    "# Converts datetime to numerical non-negatives, millions of seconds from 1900\n",
    "def tickerz(dt):\n",
    "    return (dt - datetime(1900, 1, 1)) / timedelta(seconds=1)\n",
    "\n",
    "fir_tick = (tickerz(fir_deg)/10**6)\n",
    "fir_tick.rename(\"fir_tick\")"
   ]
  },
  {
   "cell_type": "markdown",
   "id": "c9e58969",
   "metadata": {},
   "source": [
    "## 4.  Merging"
   ]
  },
  {
   "cell_type": "markdown",
   "id": "ae77dc74",
   "metadata": {},
   "source": [
    "Create one big dataframe with all of our features."
   ]
  },
  {
   "cell_type": "code",
   "execution_count": 26,
   "id": "4c2100cf",
   "metadata": {
    "ExecuteTime": {
     "end_time": "2021-10-29T11:10:08.796074Z",
     "start_time": "2021-10-29T11:10:08.322012Z"
    }
   },
   "outputs": [
    {
     "data": {
      "text/html": [
       "<div>\n",
       "<style scoped>\n",
       "    .dataframe tbody tr th:only-of-type {\n",
       "        vertical-align: middle;\n",
       "    }\n",
       "\n",
       "    .dataframe tbody tr th {\n",
       "        vertical-align: top;\n",
       "    }\n",
       "\n",
       "    .dataframe thead th {\n",
       "        text-align: right;\n",
       "    }\n",
       "</style>\n",
       "<table border=\"1\" class=\"dataframe\">\n",
       "  <thead>\n",
       "    <tr style=\"text-align: right;\">\n",
       "      <th></th>\n",
       "      <th>num_deg</th>\n",
       "      <th>num_job</th>\n",
       "      <th>max_sen</th>\n",
       "      <th>avg_sen</th>\n",
       "      <th>max_work</th>\n",
       "      <th>acc_stu</th>\n",
       "      <th>offset</th>\n",
       "    </tr>\n",
       "    <tr>\n",
       "      <th>user_id</th>\n",
       "      <th></th>\n",
       "      <th></th>\n",
       "      <th></th>\n",
       "      <th></th>\n",
       "      <th></th>\n",
       "      <th></th>\n",
       "      <th></th>\n",
       "    </tr>\n",
       "  </thead>\n",
       "  <tbody>\n",
       "    <tr>\n",
       "      <th>++5SW5MI5/h8X1hMA3QnmQ4ZM3TcQvn1bQ/jHgHWG0kf/bHrn17MPg==</th>\n",
       "      <td>1</td>\n",
       "      <td>1.0</td>\n",
       "      <td>7.064817</td>\n",
       "      <td>7.064817</td>\n",
       "      <td>0.0</td>\n",
       "      <td>1461.0</td>\n",
       "      <td>1.0</td>\n",
       "    </tr>\n",
       "    <tr>\n",
       "      <th>++5qk2+uEmkI/3Z4FrBwDw4ZM3TcQvn1bQ/jHgHWG0kf/bHrn17MPg==</th>\n",
       "      <td>2</td>\n",
       "      <td>2.0</td>\n",
       "      <td>7.334247</td>\n",
       "      <td>5.332877</td>\n",
       "      <td>3165.0</td>\n",
       "      <td>2922.0</td>\n",
       "      <td>1.0</td>\n",
       "    </tr>\n",
       "    <tr>\n",
       "      <th>++6+hv3i5RAVsrWO8q5JEQ5+2cvffV/mNepQVJd0smgtpBr4MGMFJQ==</th>\n",
       "      <td>1</td>\n",
       "      <td>9.0</td>\n",
       "      <td>4.307247</td>\n",
       "      <td>3.854684</td>\n",
       "      <td>1553.0</td>\n",
       "      <td>1095.0</td>\n",
       "      <td>1.0</td>\n",
       "    </tr>\n",
       "    <tr>\n",
       "      <th>++6zEVtPCi83vpPTHSY2Vg5+2cvffV/mNepQVJd0smgtpBr4MGMFJQ==</th>\n",
       "      <td>1</td>\n",
       "      <td>2.0</td>\n",
       "      <td>5.002740</td>\n",
       "      <td>4.465550</td>\n",
       "      <td>822.0</td>\n",
       "      <td>1826.0</td>\n",
       "      <td>1.0</td>\n",
       "    </tr>\n",
       "    <tr>\n",
       "      <th>++7kB6m0hI1TgAPmyY1X6A5+2cvffV/mNepQVJd0smgtpBr4MGMFJQ==</th>\n",
       "      <td>3</td>\n",
       "      <td>9.0</td>\n",
       "      <td>7.421538</td>\n",
       "      <td>4.072623</td>\n",
       "      <td>6118.0</td>\n",
       "      <td>732.0</td>\n",
       "      <td>1.0</td>\n",
       "    </tr>\n",
       "    <tr>\n",
       "      <th>...</th>\n",
       "      <td>...</td>\n",
       "      <td>...</td>\n",
       "      <td>...</td>\n",
       "      <td>...</td>\n",
       "      <td>...</td>\n",
       "      <td>...</td>\n",
       "      <td>...</td>\n",
       "    </tr>\n",
       "    <tr>\n",
       "      <th>zzdHAVxl9iQrwom22S/FLg5+2cvffV/mNepQVJd0smgtpBr4MGMFJQ==</th>\n",
       "      <td>3</td>\n",
       "      <td>13.0</td>\n",
       "      <td>10.008219</td>\n",
       "      <td>5.389630</td>\n",
       "      <td>7486.0</td>\n",
       "      <td>1827.0</td>\n",
       "      <td>1.0</td>\n",
       "    </tr>\n",
       "    <tr>\n",
       "      <th>zzrNxfUzwZXNkSs15haLyA4ZM3TcQvn1bQ/jHgHWG0kf/bHrn17MPg==</th>\n",
       "      <td>2</td>\n",
       "      <td>1.0</td>\n",
       "      <td>4.610625</td>\n",
       "      <td>4.610625</td>\n",
       "      <td>0.0</td>\n",
       "      <td>1827.0</td>\n",
       "      <td>1.0</td>\n",
       "    </tr>\n",
       "    <tr>\n",
       "      <th>zzrbQXjc2yHwbWjtQ9F3mg5+2cvffV/mNepQVJd0smgtpBr4MGMFJQ==</th>\n",
       "      <td>1</td>\n",
       "      <td>0.0</td>\n",
       "      <td>3.865393</td>\n",
       "      <td>3.160607</td>\n",
       "      <td>0.0</td>\n",
       "      <td>1461.0</td>\n",
       "      <td>1.0</td>\n",
       "    </tr>\n",
       "    <tr>\n",
       "      <th>zzuZVPanBvW09lNk1C3h+Q5+2cvffV/mNepQVJd0smgtpBr4MGMFJQ==</th>\n",
       "      <td>1</td>\n",
       "      <td>0.0</td>\n",
       "      <td>5.609423</td>\n",
       "      <td>3.882293</td>\n",
       "      <td>0.0</td>\n",
       "      <td>1461.0</td>\n",
       "      <td>1.0</td>\n",
       "    </tr>\n",
       "    <tr>\n",
       "      <th>zzvZxBSf81furoFl3PcSuHAG1BvSkUYANepQVJd0smgtpBr4MGMFJQ==</th>\n",
       "      <td>1</td>\n",
       "      <td>4.0</td>\n",
       "      <td>3.835616</td>\n",
       "      <td>3.311560</td>\n",
       "      <td>1126.0</td>\n",
       "      <td>1461.0</td>\n",
       "      <td>1.0</td>\n",
       "    </tr>\n",
       "  </tbody>\n",
       "</table>\n",
       "<p>100000 rows × 7 columns</p>\n",
       "</div>"
      ],
      "text/plain": [
       "                                                    num_deg  num_job  \\\n",
       "user_id                                                                \n",
       "++5SW5MI5/h8X1hMA3QnmQ4ZM3TcQvn1bQ/jHgHWG0kf/bH...        1      1.0   \n",
       "++5qk2+uEmkI/3Z4FrBwDw4ZM3TcQvn1bQ/jHgHWG0kf/bH...        2      2.0   \n",
       "++6+hv3i5RAVsrWO8q5JEQ5+2cvffV/mNepQVJd0smgtpBr...        1      9.0   \n",
       "++6zEVtPCi83vpPTHSY2Vg5+2cvffV/mNepQVJd0smgtpBr...        1      2.0   \n",
       "++7kB6m0hI1TgAPmyY1X6A5+2cvffV/mNepQVJd0smgtpBr...        3      9.0   \n",
       "...                                                     ...      ...   \n",
       "zzdHAVxl9iQrwom22S/FLg5+2cvffV/mNepQVJd0smgtpBr...        3     13.0   \n",
       "zzrNxfUzwZXNkSs15haLyA4ZM3TcQvn1bQ/jHgHWG0kf/bH...        2      1.0   \n",
       "zzrbQXjc2yHwbWjtQ9F3mg5+2cvffV/mNepQVJd0smgtpBr...        1      0.0   \n",
       "zzuZVPanBvW09lNk1C3h+Q5+2cvffV/mNepQVJd0smgtpBr...        1      0.0   \n",
       "zzvZxBSf81furoFl3PcSuHAG1BvSkUYANepQVJd0smgtpBr...        1      4.0   \n",
       "\n",
       "                                                      max_sen   avg_sen  \\\n",
       "user_id                                                                   \n",
       "++5SW5MI5/h8X1hMA3QnmQ4ZM3TcQvn1bQ/jHgHWG0kf/bH...   7.064817  7.064817   \n",
       "++5qk2+uEmkI/3Z4FrBwDw4ZM3TcQvn1bQ/jHgHWG0kf/bH...   7.334247  5.332877   \n",
       "++6+hv3i5RAVsrWO8q5JEQ5+2cvffV/mNepQVJd0smgtpBr...   4.307247  3.854684   \n",
       "++6zEVtPCi83vpPTHSY2Vg5+2cvffV/mNepQVJd0smgtpBr...   5.002740  4.465550   \n",
       "++7kB6m0hI1TgAPmyY1X6A5+2cvffV/mNepQVJd0smgtpBr...   7.421538  4.072623   \n",
       "...                                                       ...       ...   \n",
       "zzdHAVxl9iQrwom22S/FLg5+2cvffV/mNepQVJd0smgtpBr...  10.008219  5.389630   \n",
       "zzrNxfUzwZXNkSs15haLyA4ZM3TcQvn1bQ/jHgHWG0kf/bH...   4.610625  4.610625   \n",
       "zzrbQXjc2yHwbWjtQ9F3mg5+2cvffV/mNepQVJd0smgtpBr...   3.865393  3.160607   \n",
       "zzuZVPanBvW09lNk1C3h+Q5+2cvffV/mNepQVJd0smgtpBr...   5.609423  3.882293   \n",
       "zzvZxBSf81furoFl3PcSuHAG1BvSkUYANepQVJd0smgtpBr...   3.835616  3.311560   \n",
       "\n",
       "                                                    max_work  acc_stu  offset  \n",
       "user_id                                                                        \n",
       "++5SW5MI5/h8X1hMA3QnmQ4ZM3TcQvn1bQ/jHgHWG0kf/bH...       0.0   1461.0     1.0  \n",
       "++5qk2+uEmkI/3Z4FrBwDw4ZM3TcQvn1bQ/jHgHWG0kf/bH...    3165.0   2922.0     1.0  \n",
       "++6+hv3i5RAVsrWO8q5JEQ5+2cvffV/mNepQVJd0smgtpBr...    1553.0   1095.0     1.0  \n",
       "++6zEVtPCi83vpPTHSY2Vg5+2cvffV/mNepQVJd0smgtpBr...     822.0   1826.0     1.0  \n",
       "++7kB6m0hI1TgAPmyY1X6A5+2cvffV/mNepQVJd0smgtpBr...    6118.0    732.0     1.0  \n",
       "...                                                      ...      ...     ...  \n",
       "zzdHAVxl9iQrwom22S/FLg5+2cvffV/mNepQVJd0smgtpBr...    7486.0   1827.0     1.0  \n",
       "zzrNxfUzwZXNkSs15haLyA4ZM3TcQvn1bQ/jHgHWG0kf/bH...       0.0   1827.0     1.0  \n",
       "zzrbQXjc2yHwbWjtQ9F3mg5+2cvffV/mNepQVJd0smgtpBr...       0.0   1461.0     1.0  \n",
       "zzuZVPanBvW09lNk1C3h+Q5+2cvffV/mNepQVJd0smgtpBr...       0.0   1461.0     1.0  \n",
       "zzvZxBSf81furoFl3PcSuHAG1BvSkUYANepQVJd0smgtpBr...    1126.0   1461.0     1.0  \n",
       "\n",
       "[100000 rows x 7 columns]"
      ]
     },
     "execution_count": 26,
     "metadata": {},
     "output_type": "execute_result"
    }
   ],
   "source": [
    "#initial data merging\n",
    "\n",
    "names = {\"major\": \"num_deg\", \"jobtitle\": \"num_job\", \"amax\": \"max_sen\", \"mean\": \"avg_sen\" }\n",
    "\n",
    "data = pd.merge(deg_num,job_num, on = 'user_id', how = 'outer').fillna(0)\n",
    "\n",
    "data = pd.merge(data,max_seni.seniority, on = 'user_id', how = 'right')\n",
    "\n",
    "data = pd.merge(data,max_work.dt.days, on = 'user_id', how = 'left')\n",
    "data.max_work[data['max_work'].isnull()] = 0.0\n",
    "\n",
    "data = pd.merge(data,acc_stu.dt.days, on = 'user_id', how = 'left')\n",
    "data.acc_stu[data['acc_stu'].isnull()] = 0.0\n",
    "\n",
    "#add offset\n",
    "data['offset'] = np.ones(100000)\n",
    "#data = pd.merge(data,fir_deg, on = 'user_id', how = 'left')\n",
    "\n",
    "data.rename(columns = names, inplace = True)\n",
    "data"
   ]
  },
  {
   "cell_type": "code",
   "execution_count": null,
   "id": "e002fe20",
   "metadata": {
    "ExecuteTime": {
     "end_time": "2021-10-29T04:37:45.047776Z",
     "start_time": "2021-10-29T04:37:45.004892Z"
    }
   },
   "outputs": [],
   "source": []
  },
  {
   "cell_type": "markdown",
   "id": "8b149793",
   "metadata": {},
   "source": [
    "# 4. Training "
   ]
  },
  {
   "cell_type": "markdown",
   "id": "eae88ff2",
   "metadata": {},
   "source": [
    "### Supervised Subset "
   ]
  },
  {
   "cell_type": "markdown",
   "id": "b6a2dc5c",
   "metadata": {},
   "source": [
    "We will use a subset of users who provided us with high school information to more accuratley determine a true age or ground truth. I assume they were born 17-18 years before their high school end date. We should remove the high school entries as it directly determined the outcome. \n",
    "\n",
    "We use a few names for secondary higher education a.k.a. \"high school\" see link: https://en.wikipedia.org/wiki/Secondary_school\n",
    "Yet many words can not be correctly distingished, as in the case with the spanish \"Bachillerato\" meaning high school but in Peru describing what we would call a bachelor's degree. "
   ]
  },
  {
   "cell_type": "code",
   "execution_count": 27,
   "id": "4eaa4259",
   "metadata": {
    "ExecuteTime": {
     "end_time": "2021-10-29T11:10:09.479943Z",
     "start_time": "2021-10-29T11:10:08.798764Z"
    }
   },
   "outputs": [
    {
     "name": "stdout",
     "output_type": "stream",
     "text": [
      "Number of users with high school info: 3841\n"
     ]
    }
   ],
   "source": [
    "# indices of a significant amount of high school degrees\n",
    "\n",
    "hs_index1 = Edu.major.str.contains('h.s. diploma|high sc|highsch|high-sch|hs diploma|gymnasium', case = False, na=False)\n",
    "hs_index2 =  (Edu.major == 'HS')\n",
    "hs_index3 =  (Edu.major == 'H.S.C.')\n",
    "hs_index4 =  (Edu.major == 'H.S.C')\n",
    "hs_index5 =  (Edu.major == 'HSC')\n",
    "hs_index6 =  (Edu.major.str.lower() == 'HS'.lower())\n",
    "hs_index6[hs_index6.isnull()] = False\n",
    "hs_index7 =  (Edu.major.str.match('higher secondary', case = False, na=False))\n",
    "hs_index7[hs_index7.isnull()] = False\n",
    "hs_index8 =  (Edu.major.str.match('Senior Secondary', case = False, na=False))\n",
    "hs_index8[hs_index8.isnull()] = False\n",
    "hs_index9 =  (Edu.major.str.match('onderwijs', case = False, na=False))\n",
    "hs_index9[hs_index9.isnull()] = False\n",
    "\n",
    "hs_index = (hs_index1 | hs_index2 | hs_index3 | hs_index4 | hs_index5 | hs_index6 | hs_index7 | hs_index8 | hs_index9)\n",
    "\n",
    "#batch of high school graduates \n",
    "high_schoolers = Edu[hs_index]\n",
    "#adding their supposed birthdays\n",
    "high_schoolers['Birthday'] = high_schoolers['enddate'] - pd.Timedelta(\"6570 days\") #18 years\n",
    "#cleanup\n",
    "high_schoolers.drop(labels = ['major','startdate','enddate','degduration'], axis = 1, inplace = True)\n",
    "high_schoolers.set_index('user_id', inplace = True)\n",
    "high_schoolers = high_schoolers.squeeze()\n",
    "\n",
    "high_schoolers = high_schoolers[(high_schoolers.notnull())]\n",
    "\n",
    "print ('Number of users with high school info:', np.sum(high_schoolers.notnull()))"
   ]
  },
  {
   "cell_type": "code",
   "execution_count": 28,
   "id": "5620090a",
   "metadata": {
    "ExecuteTime": {
     "end_time": "2021-10-29T11:10:09.717309Z",
     "start_time": "2021-10-29T11:10:09.484930Z"
    }
   },
   "outputs": [
    {
     "data": {
      "text/plain": [
       "user_id\n",
       "++5SW5MI5/h8X1hMA3QnmQ4ZM3TcQvn1bQ/jHgHWG0kf/bHrn17MPg==    1672.5312\n",
       "++5qk2+uEmkI/3Z4FrBwDw4ZM3TcQvn1bQ/jHgHWG0kf/bHrn17MPg==    2461.4496\n",
       "++6+hv3i5RAVsrWO8q5JEQ5+2cvffV/mNepQVJd0smgtpBr4MGMFJQ==    3660.5952\n",
       "++6zEVtPCi83vpPTHSY2Vg5+2cvffV/mNepQVJd0smgtpBr4MGMFJQ==    3345.0624\n",
       "++7kB6m0hI1TgAPmyY1X6A5+2cvffV/mNepQVJd0smgtpBr4MGMFJQ==    3061.0656\n",
       "                                                              ...    \n",
       "zzdHAVxl9iQrwom22S/FLg5+2cvffV/mNepQVJd0smgtpBr4MGMFJQ==    2966.3712\n",
       "zzrNxfUzwZXNkSs15haLyA4ZM3TcQvn1bQ/jHgHWG0kf/bHrn17MPg==    2587.6800\n",
       "zzrbQXjc2yHwbWjtQ9F3mg5+2cvffV/mNepQVJd0smgtpBr4MGMFJQ==    3534.3648\n",
       "zzuZVPanBvW09lNk1C3h+Q5+2cvffV/mNepQVJd0smgtpBr4MGMFJQ==    3597.5232\n",
       "zzvZxBSf81furoFl3PcSuHAG1BvSkUYANepQVJd0smgtpBr4MGMFJQ==    3818.4480\n",
       "Name: fir_tack, Length: 88736, dtype: float64"
      ]
     },
     "execution_count": 28,
     "metadata": {},
     "output_type": "execute_result"
    }
   ],
   "source": [
    "#Masking information about high school as the earliest acivity\n",
    "#anyway assuming this is generally the case\n",
    "Ed  = Edu[~hs_index]\n",
    "fir_act = Ed.groupby('user_id').agg({'enddate': [np.min]})\n",
    "fir_act = fir_act['enddate']['amin']\n",
    "fir_act = fir_act[fir_act.notnull()]\n",
    "fir_tack = (tickerz(fir_act)/10**6)\n",
    "fir_tack.rename(\"fir_tack\")"
   ]
  },
  {
   "cell_type": "code",
   "execution_count": 29,
   "id": "27616ab8",
   "metadata": {
    "ExecuteTime": {
     "end_time": "2021-10-29T11:10:09.844968Z",
     "start_time": "2021-10-29T11:10:09.718307Z"
    },
    "scrolled": true
   },
   "outputs": [
    {
     "data": {
      "text/html": [
       "<div>\n",
       "<style scoped>\n",
       "    .dataframe tbody tr th:only-of-type {\n",
       "        vertical-align: middle;\n",
       "    }\n",
       "\n",
       "    .dataframe tbody tr th {\n",
       "        vertical-align: top;\n",
       "    }\n",
       "\n",
       "    .dataframe thead th {\n",
       "        text-align: right;\n",
       "    }\n",
       "</style>\n",
       "<table border=\"1\" class=\"dataframe\">\n",
       "  <thead>\n",
       "    <tr style=\"text-align: right;\">\n",
       "      <th></th>\n",
       "      <th>fir_tack</th>\n",
       "      <th>num_deg</th>\n",
       "      <th>num_job</th>\n",
       "      <th>max_sen</th>\n",
       "      <th>avg_sen</th>\n",
       "      <th>max_work</th>\n",
       "      <th>acc_stu</th>\n",
       "      <th>offset</th>\n",
       "      <th>Birthday</th>\n",
       "    </tr>\n",
       "    <tr>\n",
       "      <th>user_id</th>\n",
       "      <th></th>\n",
       "      <th></th>\n",
       "      <th></th>\n",
       "      <th></th>\n",
       "      <th></th>\n",
       "      <th></th>\n",
       "      <th></th>\n",
       "      <th></th>\n",
       "      <th></th>\n",
       "    </tr>\n",
       "  </thead>\n",
       "  <tbody>\n",
       "    <tr>\n",
       "      <th>+2SCsvjwjkYFFfBDQvYArHAG1BvSkUYANepQVJd0smgtpBr4MGMFJQ==</th>\n",
       "      <td>3439.7568</td>\n",
       "      <td>2</td>\n",
       "      <td>5.0</td>\n",
       "      <td>5.123407</td>\n",
       "      <td>4.255430</td>\n",
       "      <td>3500.0</td>\n",
       "      <td>366.0</td>\n",
       "      <td>1.0</td>\n",
       "      <td>1990-01-05</td>\n",
       "    </tr>\n",
       "    <tr>\n",
       "      <th>+8GBZvyzW0kHyziIFdNk1MuPeVF1KPE3NepQVJd0smgtpBr4MGMFJQ==</th>\n",
       "      <td>3439.7568</td>\n",
       "      <td>2</td>\n",
       "      <td>10.0</td>\n",
       "      <td>3.496862</td>\n",
       "      <td>2.244472</td>\n",
       "      <td>4383.0</td>\n",
       "      <td>1827.0</td>\n",
       "      <td>1.0</td>\n",
       "      <td>1989-01-05</td>\n",
       "    </tr>\n",
       "    <tr>\n",
       "      <th>+91xndvpW//3xmL7pGU2CQ4ZM3TcQvn1bQ/jHgHWG0kf/bHrn17MPg==</th>\n",
       "      <td>3313.5264</td>\n",
       "      <td>4</td>\n",
       "      <td>8.0</td>\n",
       "      <td>6.722116</td>\n",
       "      <td>3.797680</td>\n",
       "      <td>2892.0</td>\n",
       "      <td>8402.0</td>\n",
       "      <td>1.0</td>\n",
       "      <td>1987-01-06</td>\n",
       "    </tr>\n",
       "    <tr>\n",
       "      <th>+AtHffnVt9GRbOZRYN4ePg5+2cvffV/mNepQVJd0smgtpBr4MGMFJQ==</th>\n",
       "      <td>3250.3680</td>\n",
       "      <td>4</td>\n",
       "      <td>0.0</td>\n",
       "      <td>8.990813</td>\n",
       "      <td>6.001047</td>\n",
       "      <td>0.0</td>\n",
       "      <td>5844.0</td>\n",
       "      <td>1.0</td>\n",
       "      <td>1992-01-06</td>\n",
       "    </tr>\n",
       "    <tr>\n",
       "      <th>+D51K9aoFp97wFSO6wAbJg4ZM3TcQvn1bQ/jHgHWG0kf/bHrn17MPg==</th>\n",
       "      <td>3155.6736</td>\n",
       "      <td>2</td>\n",
       "      <td>3.0</td>\n",
       "      <td>3.456164</td>\n",
       "      <td>3.264814</td>\n",
       "      <td>5416.0</td>\n",
       "      <td>2191.0</td>\n",
       "      <td>1.0</td>\n",
       "      <td>1978-01-05</td>\n",
       "    </tr>\n",
       "  </tbody>\n",
       "</table>\n",
       "</div>"
      ],
      "text/plain": [
       "                                                     fir_tack  num_deg  \\\n",
       "user_id                                                                  \n",
       "+2SCsvjwjkYFFfBDQvYArHAG1BvSkUYANepQVJd0smgtpBr...  3439.7568        2   \n",
       "+8GBZvyzW0kHyziIFdNk1MuPeVF1KPE3NepQVJd0smgtpBr...  3439.7568        2   \n",
       "+91xndvpW//3xmL7pGU2CQ4ZM3TcQvn1bQ/jHgHWG0kf/bH...  3313.5264        4   \n",
       "+AtHffnVt9GRbOZRYN4ePg5+2cvffV/mNepQVJd0smgtpBr...  3250.3680        4   \n",
       "+D51K9aoFp97wFSO6wAbJg4ZM3TcQvn1bQ/jHgHWG0kf/bH...  3155.6736        2   \n",
       "\n",
       "                                                    num_job   max_sen  \\\n",
       "user_id                                                                 \n",
       "+2SCsvjwjkYFFfBDQvYArHAG1BvSkUYANepQVJd0smgtpBr...      5.0  5.123407   \n",
       "+8GBZvyzW0kHyziIFdNk1MuPeVF1KPE3NepQVJd0smgtpBr...     10.0  3.496862   \n",
       "+91xndvpW//3xmL7pGU2CQ4ZM3TcQvn1bQ/jHgHWG0kf/bH...      8.0  6.722116   \n",
       "+AtHffnVt9GRbOZRYN4ePg5+2cvffV/mNepQVJd0smgtpBr...      0.0  8.990813   \n",
       "+D51K9aoFp97wFSO6wAbJg4ZM3TcQvn1bQ/jHgHWG0kf/bH...      3.0  3.456164   \n",
       "\n",
       "                                                     avg_sen  max_work  \\\n",
       "user_id                                                                  \n",
       "+2SCsvjwjkYFFfBDQvYArHAG1BvSkUYANepQVJd0smgtpBr...  4.255430    3500.0   \n",
       "+8GBZvyzW0kHyziIFdNk1MuPeVF1KPE3NepQVJd0smgtpBr...  2.244472    4383.0   \n",
       "+91xndvpW//3xmL7pGU2CQ4ZM3TcQvn1bQ/jHgHWG0kf/bH...  3.797680    2892.0   \n",
       "+AtHffnVt9GRbOZRYN4ePg5+2cvffV/mNepQVJd0smgtpBr...  6.001047       0.0   \n",
       "+D51K9aoFp97wFSO6wAbJg4ZM3TcQvn1bQ/jHgHWG0kf/bH...  3.264814    5416.0   \n",
       "\n",
       "                                                    acc_stu  offset   Birthday  \n",
       "user_id                                                                         \n",
       "+2SCsvjwjkYFFfBDQvYArHAG1BvSkUYANepQVJd0smgtpBr...    366.0     1.0 1990-01-05  \n",
       "+8GBZvyzW0kHyziIFdNk1MuPeVF1KPE3NepQVJd0smgtpBr...   1827.0     1.0 1989-01-05  \n",
       "+91xndvpW//3xmL7pGU2CQ4ZM3TcQvn1bQ/jHgHWG0kf/bH...   8402.0     1.0 1987-01-06  \n",
       "+AtHffnVt9GRbOZRYN4ePg5+2cvffV/mNepQVJd0smgtpBr...   5844.0     1.0 1992-01-06  \n",
       "+D51K9aoFp97wFSO6wAbJg4ZM3TcQvn1bQ/jHgHWG0kf/bH...   2191.0     1.0 1978-01-05  "
      ]
     },
     "execution_count": 29,
     "metadata": {},
     "output_type": "execute_result"
    }
   ],
   "source": [
    "supervised_data = pd.merge(data, high_schoolers, on = 'user_id', how = 'inner')\n",
    "\n",
    "supervised_data = pd.merge(fir_tack, supervised_data, on = 'user_id', how = 'inner')\n",
    "supervised_data.rename(columns = {'amin' : 'fir_tack'}, inplace = True)\n",
    "supervised_data.head()"
   ]
  },
  {
   "cell_type": "markdown",
   "id": "a715d7b0",
   "metadata": {},
   "source": [
    "### Spliting into Training and Testing"
   ]
  },
  {
   "cell_type": "markdown",
   "id": "7102ac40",
   "metadata": {},
   "source": [
    "Here we do a 65-35 as determined by the optimal scaling law. Especially since we have very few entries for training."
   ]
  },
  {
   "cell_type": "code",
   "execution_count": 30,
   "id": "9d3a271c",
   "metadata": {
    "ExecuteTime": {
     "end_time": "2021-10-29T11:10:09.860926Z",
     "start_time": "2021-10-29T11:10:09.845965Z"
    }
   },
   "outputs": [],
   "source": [
    "#make birthdays numeric \n",
    "supervised_data['Birthday'] = tickerz(supervised_data['Birthday'])/10**6"
   ]
  },
  {
   "cell_type": "code",
   "execution_count": 31,
   "id": "9821fe4d",
   "metadata": {
    "ExecuteTime": {
     "end_time": "2021-10-29T11:10:09.876935Z",
     "start_time": "2021-10-29T11:10:09.861959Z"
    }
   },
   "outputs": [
    {
     "name": "stdout",
     "output_type": "stream",
     "text": [
      "0.35355339059327373\n",
      "0.6464466094067263\n"
     ]
    }
   ],
   "source": [
    "from sklearn.model_selection import train_test_split\n",
    "#discover scaling law split\n",
    "columns = 8\n",
    "test = 1/np.sqrt(columns)\n",
    "train = 1 - test\n",
    "print(test)\n",
    "print(train)\n",
    "#Scaling Law Split\n",
    "X_train, X_test, y_train, y_test = train_test_split(supervised_data.loc[:,'fir_tack':'acc_stu'], supervised_data['Birthday'], train_size= .65, random_state= 42)"
   ]
  },
  {
   "cell_type": "markdown",
   "id": "90bc9764",
   "metadata": {},
   "source": [
    "### Model: Linear Regressor (Elastic Net)"
   ]
  },
  {
   "cell_type": "markdown",
   "id": "5fd470d2",
   "metadata": {},
   "source": [
    "The Linear regressor algorithms do not need heavy normalization as it won't use any kind of descent but linear algebra algoritmic iterations. "
   ]
  },
  {
   "cell_type": "code",
   "execution_count": 32,
   "id": "1896468c",
   "metadata": {
    "ExecuteTime": {
     "end_time": "2021-10-29T11:10:12.991073Z",
     "start_time": "2021-10-29T11:10:09.877880Z"
    }
   },
   "outputs": [
    {
     "name": "stdout",
     "output_type": "stream",
     "text": [
      "Minimum mean squared error:\n",
      " 170.00282174987143 @ alpha =  0.38383838383838387 ratio: 0.0\n",
      "Minimum mean squared error:\n",
      " 170.00269211891217 @ alpha =  0.5050505050505051 ratio: 0.25\n",
      "Minimum mean squared error:\n",
      " 170.00251125763808 @ alpha =  0.686868686868687 ratio: 0.5\n",
      "Minimum mean squared error:\n",
      " 170.0024441930921 @ alpha =  1.1717171717171717 ratio: 0.75\n",
      "Minimum mean squared error:\n",
      " 170.03151749876355 @ alpha =  2.0 ratio: 1.0\n"
     ]
    },
    {
     "data": {
      "image/png": "[encoded data removed]",
      "text/plain": [
       "<Figure size 432x288 with 1 Axes>"
      ]
     },
     "metadata": {
      "needs_background": "light"
     },
     "output_type": "display_data"
    }
   ],
   "source": [
    "for k in np.linspace(0,1,5):\n",
    "    #for storing performance values:\n",
    "    num = 100\n",
    "    P =np.zeros((num,2))\n",
    "    #coefficent Storing\n",
    "    C = np.zeros((num,7))\n",
    "    j = 0\n",
    "    for i in np.linspace(0,2,num):\n",
    "        #make model object\n",
    "        regr = ElasticNet(random_state=40, l1_ratio = k, alpha = i)\n",
    "        #learn coefficents\n",
    "        regr.fit(X_train,y_train)\n",
    "        y_pred = regr.predict(X_test)\n",
    "\n",
    "        #calculate mean squared error (square rooted)\n",
    "        p = np.sqrt(((y_pred-y_test)**2).mean())\n",
    "\n",
    "        C[j] = regr.coef_\n",
    "        P[j][:] = np.array([i,p])\n",
    "        j= j+1\n",
    "\n",
    "    a = P[P[:,1].argmin(),0]\n",
    "    m = P[:,1].min()\n",
    "    print(\"Minimum mean squared error:\"+ '\\n',m, \"@ alpha = \", a, 'ratio:',k)\n",
    "    plt.plot(P[:,0],P[:,1], label = {'ratio:', k})\n",
    "    \n",
    "plt.ylabel('MSE')\n",
    "plt.xlabel('Regularzation Strength Alpha')\n",
    "plt.legend()\n",
    "plt.show()\n",
    "\n",
    "#print(\"Coefficient Values:\")\n",
    "#pd.DataFrame(C[P[:,1].argmin()]).set_index(regr.feature_names_in_ )"
   ]
  },
  {
   "cell_type": "code",
   "execution_count": 33,
   "id": "2136bd4e",
   "metadata": {
    "ExecuteTime": {
     "end_time": "2021-10-29T11:10:13.023023Z",
     "start_time": "2021-10-29T11:10:12.993068Z"
    }
   },
   "outputs": [
    {
     "name": "stdout",
     "output_type": "stream",
     "text": [
      "Minimum mean squared error: 170.00244439703707\n",
      "R^2 score: 0.7834438623188673\n",
      "Coefficient Values:\n"
     ]
    },
    {
     "data": {
      "text/html": [
       "<div>\n",
       "<style scoped>\n",
       "    .dataframe tbody tr th:only-of-type {\n",
       "        vertical-align: middle;\n",
       "    }\n",
       "\n",
       "    .dataframe tbody tr th {\n",
       "        vertical-align: top;\n",
       "    }\n",
       "\n",
       "    .dataframe thead th {\n",
       "        text-align: right;\n",
       "    }\n",
       "</style>\n",
       "<table border=\"1\" class=\"dataframe\">\n",
       "  <thead>\n",
       "    <tr style=\"text-align: right;\">\n",
       "      <th></th>\n",
       "      <th>0</th>\n",
       "    </tr>\n",
       "  </thead>\n",
       "  <tbody>\n",
       "    <tr>\n",
       "      <th>fir_tack</th>\n",
       "      <td>0.775513</td>\n",
       "    </tr>\n",
       "    <tr>\n",
       "      <th>num_deg</th>\n",
       "      <td>4.401283</td>\n",
       "    </tr>\n",
       "    <tr>\n",
       "      <th>num_job</th>\n",
       "      <td>10.854280</td>\n",
       "    </tr>\n",
       "    <tr>\n",
       "      <th>max_sen</th>\n",
       "      <td>-2.548956</td>\n",
       "    </tr>\n",
       "    <tr>\n",
       "      <th>avg_sen</th>\n",
       "      <td>-14.128584</td>\n",
       "    </tr>\n",
       "    <tr>\n",
       "      <th>max_work</th>\n",
       "      <td>-0.022905</td>\n",
       "    </tr>\n",
       "    <tr>\n",
       "      <th>acc_stu</th>\n",
       "      <td>0.010732</td>\n",
       "    </tr>\n",
       "  </tbody>\n",
       "</table>\n",
       "</div>"
      ],
      "text/plain": [
       "                  0\n",
       "fir_tack   0.775513\n",
       "num_deg    4.401283\n",
       "num_job   10.854280\n",
       "max_sen   -2.548956\n",
       "avg_sen  -14.128584\n",
       "max_work  -0.022905\n",
       "acc_stu    0.010732"
      ]
     },
     "execution_count": 33,
     "metadata": {},
     "output_type": "execute_result"
    }
   ],
   "source": [
    "#make model object\n",
    "regr = ElasticNet(random_state=40, l1_ratio = .75, alpha = 1.17 )\n",
    "#learn coefficents\n",
    "regr.fit(X_train,y_train)\n",
    "y_pred = regr.predict(X_test)\n",
    "#calculate mean squared error (square rooted)\n",
    "print(\"Minimum mean squared error:\",np.sqrt(((y_pred-y_test)**2).mean()))\n",
    "print(\"R^2 score:\", regr.score(X_test,y_test))\n",
    "\n",
    "print(\"Coefficient Values:\")\n",
    "pd.DataFrame(regr.coef_).set_index(regr.feature_names_in_ )"
   ]
  },
  {
   "cell_type": "markdown",
   "id": "c20add8d",
   "metadata": {},
   "source": [
    "Note it makes sense that the 'fir_tick' (or ealiest activity) has a coefficient close to 1 as it is directly and expliclty used if you were to do this by hand. What you are really doing is determining every single person's relative distance from original \"first activity\"  to the time  when they were born in the past.\n",
    "\n",
    "The performance is not that strong. We could add non-linear or cross features to try and improve but we just move on."
   ]
  },
  {
   "cell_type": "markdown",
   "id": "e021aff4",
   "metadata": {
    "ExecuteTime": {
     "end_time": "2021-10-29T04:49:50.071946Z",
     "start_time": "2021-10-29T04:49:50.054974Z"
    }
   },
   "source": [
    "### Model: Decision Tree (Random Forest)"
   ]
  },
  {
   "cell_type": "markdown",
   "id": "7064e11e",
   "metadata": {},
   "source": [
    "Random Forests tends to behave well as they can be discontinous and weed out many features as they \"decide\" which are better to use.Since we have so few features this seems like overkill. But here we are. "
   ]
  },
  {
   "cell_type": "code",
   "execution_count": 34,
   "id": "1f68066e",
   "metadata": {
    "ExecuteTime": {
     "end_time": "2021-10-29T11:10:34.768862Z",
     "start_time": "2021-10-29T11:10:13.024980Z"
    }
   },
   "outputs": [
    {
     "name": "stdout",
     "output_type": "stream",
     "text": [
      "Minimum mean squared error:\n",
      " 140.74873437742392 Max samples: 0.968421052631579 Max features: 3\n",
      "Minimum mean squared error:\n",
      " 141.4104112285479 Max samples: 1.0 Max features: 4\n",
      "Minimum mean squared error:\n",
      " 142.86225195117234 Max samples: 0.968421052631579 Max features: 5\n"
     ]
    },
    {
     "data": {
      "image/png": "[encoded data removed]",
      "text/plain": [
       "<Figure size 432x288 with 1 Axes>"
      ]
     },
     "metadata": {
      "needs_background": "light"
     },
     "output_type": "display_data"
    }
   ],
   "source": [
    "for k in range(3,6):\n",
    "    #for storing performance values:\n",
    "    num = 20\n",
    "    P =np.zeros((num,2))\n",
    "    j = 0\n",
    "    for i in np.linspace(0.4,1,num):\n",
    "        #make model object\n",
    "        modl = RandomForestRegressor(max_samples = i, max_features = k, max_depth = 100)\n",
    "        modl.fit(X_train,y_train)\n",
    "        y_pred = modl.predict(X_test)\n",
    "\n",
    "        #calculate mean squared error (square rooted)\n",
    "        p = np.sqrt(((y_pred-y_test)**2).mean())\n",
    "\n",
    "        #C[j] = modl.coef_\n",
    "        P[j][:] = np.array([i,p])\n",
    "        j= j+1\n",
    "\n",
    "    a = P[P[:,1].argmin(),0]\n",
    "    m = P[:,1].min()\n",
    "    print(\"Minimum mean squared error:\"+ '\\n',m, 'Max samples:', a, 'Max features:',k)\n",
    "    plt.plot(P[:,0],P[:,1], label = {'max features:', k})\n",
    "    \n",
    "plt.ylabel('MSE')\n",
    "plt.xlabel('Percentage of total in Tree')\n",
    "plt.legend()\n",
    "plt.show()\n",
    "\n",
    "#print(\"Coefficient Values:\")\n",
    "#pd.DataFrame(C[P[:,1].argmin()]).set_index(regr.feature_names_in_ )"
   ]
  },
  {
   "cell_type": "code",
   "execution_count": 35,
   "id": "1b8cfef4",
   "metadata": {
    "ExecuteTime": {
     "end_time": "2021-10-29T11:10:35.226709Z",
     "start_time": "2021-10-29T11:10:34.770799Z"
    }
   },
   "outputs": [
    {
     "name": "stdout",
     "output_type": "stream",
     "text": [
      "Minimum mean squared error: 143.69576219343517\n",
      "R^2 score: 0.8452794196338659\n",
      "Feature Importance:\n"
     ]
    },
    {
     "data": {
      "text/html": [
       "<div>\n",
       "<style scoped>\n",
       "    .dataframe tbody tr th:only-of-type {\n",
       "        vertical-align: middle;\n",
       "    }\n",
       "\n",
       "    .dataframe tbody tr th {\n",
       "        vertical-align: top;\n",
       "    }\n",
       "\n",
       "    .dataframe thead th {\n",
       "        text-align: right;\n",
       "    }\n",
       "</style>\n",
       "<table border=\"1\" class=\"dataframe\">\n",
       "  <thead>\n",
       "    <tr style=\"text-align: right;\">\n",
       "      <th></th>\n",
       "      <th>0</th>\n",
       "    </tr>\n",
       "  </thead>\n",
       "  <tbody>\n",
       "    <tr>\n",
       "      <th>fir_tack</th>\n",
       "      <td>0.597356</td>\n",
       "    </tr>\n",
       "    <tr>\n",
       "      <th>num_deg</th>\n",
       "      <td>0.020120</td>\n",
       "    </tr>\n",
       "    <tr>\n",
       "      <th>num_job</th>\n",
       "      <td>0.019642</td>\n",
       "    </tr>\n",
       "    <tr>\n",
       "      <th>max_sen</th>\n",
       "      <td>0.049112</td>\n",
       "    </tr>\n",
       "    <tr>\n",
       "      <th>avg_sen</th>\n",
       "      <td>0.089853</td>\n",
       "    </tr>\n",
       "    <tr>\n",
       "      <th>max_work</th>\n",
       "      <td>0.175254</td>\n",
       "    </tr>\n",
       "    <tr>\n",
       "      <th>acc_stu</th>\n",
       "      <td>0.048663</td>\n",
       "    </tr>\n",
       "  </tbody>\n",
       "</table>\n",
       "</div>"
      ],
      "text/plain": [
       "                 0\n",
       "fir_tack  0.597356\n",
       "num_deg   0.020120\n",
       "num_job   0.019642\n",
       "max_sen   0.049112\n",
       "avg_sen   0.089853\n",
       "max_work  0.175254\n",
       "acc_stu   0.048663"
      ]
     },
     "execution_count": 35,
     "metadata": {},
     "output_type": "execute_result"
    }
   ],
   "source": [
    "#make model object\n",
    "modl = RandomForestRegressor(max_samples = .9, max_features = 3, max_depth = 1000)\n",
    "#learn coefficents\n",
    "modl.fit(X_train,y_train)\n",
    "y_pred = modl.predict(X_test)\n",
    "#calculate mean squared error (square rooted)\n",
    "print(\"Minimum mean squared error:\",np.sqrt(((y_pred-y_test)**2).mean()))\n",
    "print(\"R^2 score:\", modl.score(X_test,y_test))\n",
    "\n",
    "print(\"Feature Importance:\")\n",
    "pd.DataFrame(modl.feature_importances_).set_index(regr.feature_names_in_ )"
   ]
  },
  {
   "cell_type": "markdown",
   "id": "35459ea6",
   "metadata": {},
   "source": [
    "This model performed better in all metrics we have."
   ]
  },
  {
   "cell_type": "markdown",
   "id": "65fe637e",
   "metadata": {},
   "source": [
    "### Model: Neural Network (ReLu)"
   ]
  },
  {
   "cell_type": "markdown",
   "id": "e4a70b7b",
   "metadata": {},
   "source": [
    "Neural networks are unnecessarily complex especially for the low number of features we have. Yet here will be normalizing our features as they will be affected by magnitude."
   ]
  },
  {
   "cell_type": "code",
   "execution_count": 36,
   "id": "5cbd436d",
   "metadata": {
    "ExecuteTime": {
     "end_time": "2021-10-29T11:10:35.242666Z",
     "start_time": "2021-10-29T11:10:35.228667Z"
    }
   },
   "outputs": [],
   "source": [
    "x = X_train.values #returns a numpy array\n",
    "min_max_scaler = preprocessing.MinMaxScaler()\n",
    "x_scaled = min_max_scaler.fit_transform(x)\n",
    "X_tr = pd.DataFrame(x_scaled)\n",
    "#X_tr.rename(columns = {'0':'fir_tack', '1':'num_deg', '2':'num_job','3': 'max_sen', '4': 'avg_sen', '5':'max_work', '6': 'acc_stu'}, inplace = True)\n",
    "X_tr['7']=1.0\n",
    "\n",
    "x = X_test.values #returns a numpy array\n",
    "min_max_scaler = preprocessing.MinMaxScaler()\n",
    "x_scaled = min_max_scaler.fit_transform(x)\n",
    "X_te = pd.DataFrame(x_scaled)\n",
    "#X_tr.rename(columns = {'0':'fir_tack', '1':'num_deg', '2':'num_job','3': 'max_sen', '4': 'avg_sen', '5':'max_work', '6': 'acc_stu'}, inplace = True)\n",
    "X_te['7']=1.0"
   ]
  },
  {
   "cell_type": "code",
   "execution_count": 37,
   "id": "876b978e",
   "metadata": {
    "ExecuteTime": {
     "end_time": "2021-10-29T11:10:58.878342Z",
     "start_time": "2021-10-29T11:10:35.244654Z"
    }
   },
   "outputs": [
    {
     "name": "stdout",
     "output_type": "stream",
     "text": [
      "Epoch 1/300\n",
      "17/17 [==============================] - 1s 3ms/step - loss: 6937775.5000 - mse: 6937775.5000 - mae: 2607.7837\n",
      "Epoch 2/300\n",
      "17/17 [==============================] - 0s 4ms/step - loss: 6831955.5000 - mse: 6831955.5000 - mae: 2587.3931\n",
      "Epoch 3/300\n",
      "17/17 [==============================] - 0s 3ms/step - loss: 5937121.5000 - mse: 5937121.5000 - mae: 2406.2751\n",
      "Epoch 4/300\n",
      "17/17 [==============================] - 0s 4ms/step - loss: 2439942.7500 - mse: 2439942.7500 - mae: 1429.0132\n",
      "Epoch 5/300\n",
      "17/17 [==============================] - 0s 3ms/step - loss: 314922.5312 - mse: 314922.5625 - mae: 430.3789\n",
      "Epoch 6/300\n",
      "17/17 [==============================] - 0s 4ms/step - loss: 178164.7344 - mse: 178164.7344 - mae: 361.2480\n",
      "Epoch 7/300\n",
      "17/17 [==============================] - 0s 4ms/step - loss: 138307.2344 - mse: 138307.2344 - mae: 283.0777\n",
      "Epoch 8/300\n",
      "17/17 [==============================] - 0s 4ms/step - loss: 124291.2578 - mse: 124291.2578 - mae: 281.0915\n",
      "Epoch 9/300\n",
      "17/17 [==============================] - 0s 4ms/step - loss: 115845.9609 - mse: 115845.9609 - mae: 269.8946\n",
      "Epoch 10/300\n",
      "17/17 [==============================] - 0s 4ms/step - loss: 107974.7266 - mse: 107974.7266 - mae: 258.7866\n",
      "Epoch 11/300\n",
      "17/17 [==============================] - 0s 4ms/step - loss: 100808.1328 - mse: 100808.1328 - mae: 251.4379\n",
      "Epoch 12/300\n",
      "17/17 [==============================] - 0s 4ms/step - loss: 93933.2031 - mse: 93933.2031 - mae: 240.5072\n",
      "Epoch 13/300\n",
      "17/17 [==============================] - 0s 4ms/step - loss: 87668.4375 - mse: 87668.4375 - mae: 234.4561\n",
      "Epoch 14/300\n",
      "17/17 [==============================] - 0s 4ms/step - loss: 82028.8672 - mse: 82028.8672 - mae: 225.0312\n",
      "Epoch 15/300\n",
      "17/17 [==============================] - 0s 4ms/step - loss: 76966.6172 - mse: 76966.6172 - mae: 217.0909\n",
      "Epoch 16/300\n",
      "17/17 [==============================] - 0s 4ms/step - loss: 71900.7656 - mse: 71900.7656 - mae: 212.7356\n",
      "Epoch 17/300\n",
      "17/17 [==============================] - 0s 4ms/step - loss: 67759.1172 - mse: 67759.1172 - mae: 202.5569\n",
      "Epoch 18/300\n",
      "17/17 [==============================] - 0s 4ms/step - loss: 63628.5312 - mse: 63628.5312 - mae: 197.2621\n",
      "Epoch 19/300\n",
      "17/17 [==============================] - 0s 4ms/step - loss: 60231.7148 - mse: 60231.7148 - mae: 187.5716\n",
      "Epoch 20/300\n",
      "17/17 [==============================] - 0s 4ms/step - loss: 57826.9570 - mse: 57826.9570 - mae: 185.6507\n",
      "Epoch 21/300\n",
      "17/17 [==============================] - 0s 4ms/step - loss: 54289.9102 - mse: 54289.9102 - mae: 179.7653\n",
      "Epoch 22/300\n",
      "17/17 [==============================] - 0s 4ms/step - loss: 51737.7070 - mse: 51737.7070 - mae: 172.5434\n",
      "Epoch 23/300\n",
      "17/17 [==============================] - 0s 4ms/step - loss: 49777.3008 - mse: 49777.3008 - mae: 167.9088\n",
      "Epoch 24/300\n",
      "17/17 [==============================] - 0s 4ms/step - loss: 47984.1719 - mse: 47984.1719 - mae: 165.6499\n",
      "Epoch 25/300\n",
      "17/17 [==============================] - 0s 4ms/step - loss: 45962.9805 - mse: 45962.9805 - mae: 160.9297\n",
      "Epoch 26/300\n",
      "17/17 [==============================] - 0s 4ms/step - loss: 44579.0820 - mse: 44579.0820 - mae: 157.5447\n",
      "Epoch 27/300\n",
      "17/17 [==============================] - 0s 4ms/step - loss: 43256.1250 - mse: 43256.1250 - mae: 152.1134\n",
      "Epoch 28/300\n",
      "17/17 [==============================] - 0s 4ms/step - loss: 41811.2305 - mse: 41811.2305 - mae: 149.7912\n",
      "Epoch 29/300\n",
      "17/17 [==============================] - 0s 5ms/step - loss: 40929.5664 - mse: 40929.5664 - mae: 147.7491\n",
      "Epoch 30/300\n",
      "17/17 [==============================] - 0s 4ms/step - loss: 39855.0117 - mse: 39855.0117 - mae: 144.5556\n",
      "Epoch 31/300\n",
      "17/17 [==============================] - 0s 4ms/step - loss: 38743.6719 - mse: 38743.6719 - mae: 141.2097\n",
      "Epoch 32/300\n",
      "17/17 [==============================] - 0s 4ms/step - loss: 37929.1406 - mse: 37929.1406 - mae: 140.2713\n",
      "Epoch 33/300\n",
      "17/17 [==============================] - 0s 4ms/step - loss: 37093.4766 - mse: 37093.4766 - mae: 138.1358\n",
      "Epoch 34/300\n",
      "17/17 [==============================] - 0s 4ms/step - loss: 36494.4492 - mse: 36494.4492 - mae: 136.5699\n",
      "Epoch 35/300\n",
      "17/17 [==============================] - 0s 4ms/step - loss: 36010.2969 - mse: 36010.2969 - mae: 134.9454\n",
      "Epoch 36/300\n",
      "17/17 [==============================] - 0s 5ms/step - loss: 35427.9297 - mse: 35427.9297 - mae: 133.3401\n",
      "Epoch 37/300\n",
      "17/17 [==============================] - 0s 4ms/step - loss: 35208.4258 - mse: 35208.4219 - mae: 132.4034\n",
      "Epoch 38/300\n",
      "17/17 [==============================] - 0s 5ms/step - loss: 34773.7617 - mse: 34773.7617 - mae: 131.7641\n",
      "Epoch 39/300\n",
      "17/17 [==============================] - 0s 4ms/step - loss: 34282.8906 - mse: 34282.8906 - mae: 129.8739\n",
      "Epoch 40/300\n",
      "17/17 [==============================] - 0s 5ms/step - loss: 33931.1797 - mse: 33931.1797 - mae: 130.7925\n",
      "Epoch 41/300\n",
      "17/17 [==============================] - 0s 4ms/step - loss: 33524.9609 - mse: 33524.9609 - mae: 128.6387\n",
      "Epoch 42/300\n",
      "17/17 [==============================] - 0s 4ms/step - loss: 33256.2344 - mse: 33256.2344 - mae: 127.1661\n",
      "Epoch 43/300\n",
      "17/17 [==============================] - 0s 4ms/step - loss: 33084.4336 - mse: 33084.4336 - mae: 127.8735\n",
      "Epoch 44/300\n",
      "17/17 [==============================] - 0s 5ms/step - loss: 32683.1973 - mse: 32683.1973 - mae: 126.2538\n",
      "Epoch 45/300\n",
      "17/17 [==============================] - 0s 4ms/step - loss: 32629.5195 - mse: 32629.5195 - mae: 125.9005\n",
      "Epoch 46/300\n",
      "17/17 [==============================] - 0s 5ms/step - loss: 32397.7207 - mse: 32397.7207 - mae: 125.7789\n",
      "Epoch 47/300\n",
      "17/17 [==============================] - 0s 4ms/step - loss: 32097.3301 - mse: 32097.3301 - mae: 124.5690\n",
      "Epoch 48/300\n",
      "17/17 [==============================] - 0s 5ms/step - loss: 31940.2988 - mse: 31940.2988 - mae: 124.9428\n",
      "Epoch 49/300\n",
      "17/17 [==============================] - 0s 4ms/step - loss: 31694.0547 - mse: 31694.0547 - mae: 122.8378\n",
      "Epoch 50/300\n",
      "17/17 [==============================] - 0s 4ms/step - loss: 31587.9004 - mse: 31587.9004 - mae: 123.1696\n",
      "Epoch 51/300\n",
      "17/17 [==============================] - 0s 4ms/step - loss: 31470.4023 - mse: 31470.4043 - mae: 122.6084\n",
      "Epoch 52/300\n",
      "17/17 [==============================] - 0s 5ms/step - loss: 32125.7012 - mse: 32125.7012 - mae: 125.5401\n",
      "Epoch 53/300\n",
      "17/17 [==============================] - 0s 5ms/step - loss: 31969.4434 - mse: 31969.4434 - mae: 123.4035\n",
      "Epoch 54/300\n",
      "17/17 [==============================] - 0s 4ms/step - loss: 31286.3203 - mse: 31286.3203 - mae: 121.6631\n",
      "Epoch 55/300\n",
      "17/17 [==============================] - 0s 4ms/step - loss: 31011.6328 - mse: 31011.6328 - mae: 120.4881\n",
      "Epoch 56/300\n",
      "17/17 [==============================] - 0s 4ms/step - loss: 31015.5488 - mse: 31015.5508 - mae: 121.2101\n",
      "Epoch 57/300\n",
      "17/17 [==============================] - 0s 5ms/step - loss: 31005.0195 - mse: 31005.0195 - mae: 121.0907\n",
      "Epoch 58/300\n",
      "17/17 [==============================] - 0s 4ms/step - loss: 30731.0918 - mse: 30731.0918 - mae: 119.8543\n",
      "Epoch 59/300\n",
      "17/17 [==============================] - 0s 5ms/step - loss: 30586.6914 - mse: 30586.6914 - mae: 120.0242\n",
      "Epoch 60/300\n",
      "17/17 [==============================] - 0s 4ms/step - loss: 30701.0820 - mse: 30701.0820 - mae: 118.6078\n",
      "Epoch 61/300\n",
      "17/17 [==============================] - 0s 4ms/step - loss: 30880.6055 - mse: 30880.6055 - mae: 120.4721\n",
      "Epoch 62/300\n",
      "17/17 [==============================] - 0s 5ms/step - loss: 30408.0566 - mse: 30408.0566 - mae: 118.9825\n",
      "Epoch 63/300\n",
      "17/17 [==============================] - 0s 4ms/step - loss: 30471.9004 - mse: 30471.8965 - mae: 119.4966\n",
      "Epoch 64/300\n",
      "17/17 [==============================] - 0s 4ms/step - loss: 30264.8027 - mse: 30264.8027 - mae: 118.8219\n",
      "Epoch 65/300\n",
      "17/17 [==============================] - 0s 5ms/step - loss: 30252.0000 - mse: 30252.0000 - mae: 117.5630\n",
      "Epoch 66/300\n",
      "17/17 [==============================] - 0s 4ms/step - loss: 30110.9844 - mse: 30110.9844 - mae: 117.1785\n",
      "Epoch 67/300\n",
      "17/17 [==============================] - 0s 5ms/step - loss: 30066.7285 - mse: 30066.7285 - mae: 117.5454\n",
      "Epoch 68/300\n",
      "17/17 [==============================] - 0s 4ms/step - loss: 30178.3105 - mse: 30178.3105 - mae: 117.7619\n",
      "Epoch 69/300\n"
     ]
    },
    {
     "name": "stdout",
     "output_type": "stream",
     "text": [
      "17/17 [==============================] - 0s 4ms/step - loss: 29955.1582 - mse: 29955.1582 - mae: 117.6368\n",
      "Epoch 70/300\n",
      "17/17 [==============================] - 0s 4ms/step - loss: 29794.0469 - mse: 29794.0469 - mae: 116.8702\n",
      "Epoch 71/300\n",
      "17/17 [==============================] - 0s 4ms/step - loss: 29862.2383 - mse: 29862.2383 - mae: 116.0069\n",
      "Epoch 72/300\n",
      "17/17 [==============================] - 0s 5ms/step - loss: 29772.2266 - mse: 29772.2266 - mae: 115.6749\n",
      "Epoch 73/300\n",
      "17/17 [==============================] - 0s 4ms/step - loss: 29697.3184 - mse: 29697.3184 - mae: 115.6605\n",
      "Epoch 74/300\n",
      "17/17 [==============================] - 0s 5ms/step - loss: 29700.0078 - mse: 29700.0078 - mae: 116.8645\n",
      "Epoch 75/300\n",
      "17/17 [==============================] - 0s 4ms/step - loss: 29780.1055 - mse: 29780.1055 - mae: 115.1000\n",
      "Epoch 76/300\n",
      "17/17 [==============================] - 0s 5ms/step - loss: 29822.8164 - mse: 29822.8164 - mae: 115.8855\n",
      "Epoch 77/300\n",
      "17/17 [==============================] - 0s 5ms/step - loss: 29772.2285 - mse: 29772.2285 - mae: 116.0500\n",
      "Epoch 78/300\n",
      "17/17 [==============================] - 0s 5ms/step - loss: 29775.9668 - mse: 29775.9668 - mae: 115.2246\n",
      "Epoch 79/300\n",
      "17/17 [==============================] - 0s 4ms/step - loss: 29443.6719 - mse: 29443.6758 - mae: 114.8948\n",
      "Epoch 80/300\n",
      "17/17 [==============================] - 0s 4ms/step - loss: 29468.9316 - mse: 29468.9297 - mae: 114.7446\n",
      "Epoch 81/300\n",
      "17/17 [==============================] - 0s 4ms/step - loss: 29423.4766 - mse: 29423.4766 - mae: 114.4597\n",
      "Epoch 82/300\n",
      "17/17 [==============================] - 0s 4ms/step - loss: 29774.1953 - mse: 29774.1992 - mae: 113.9226\n",
      "Epoch 83/300\n",
      "17/17 [==============================] - 0s 4ms/step - loss: 29830.0117 - mse: 29830.0117 - mae: 115.6105\n",
      "Epoch 84/300\n",
      "17/17 [==============================] - 0s 4ms/step - loss: 29314.3438 - mse: 29314.3438 - mae: 113.9768\n",
      "Epoch 85/300\n",
      "17/17 [==============================] - 0s 4ms/step - loss: 29397.6992 - mse: 29397.6992 - mae: 114.2736\n",
      "Epoch 86/300\n",
      "17/17 [==============================] - 0s 4ms/step - loss: 29248.7129 - mse: 29248.7129 - mae: 114.1389\n",
      "Epoch 87/300\n",
      "17/17 [==============================] - 0s 4ms/step - loss: 29245.6914 - mse: 29245.6914 - mae: 112.8026\n",
      "Epoch 88/300\n",
      "17/17 [==============================] - 0s 4ms/step - loss: 29183.5430 - mse: 29183.5430 - mae: 113.3182\n",
      "Epoch 89/300\n",
      "17/17 [==============================] - 0s 4ms/step - loss: 29115.8301 - mse: 29115.8301 - mae: 113.0054\n",
      "Epoch 90/300\n",
      "17/17 [==============================] - 0s 4ms/step - loss: 29695.2090 - mse: 29695.2090 - mae: 113.1129\n",
      "Epoch 91/300\n",
      "17/17 [==============================] - 0s 4ms/step - loss: 29354.7129 - mse: 29354.7129 - mae: 113.9977\n",
      "Epoch 92/300\n",
      "17/17 [==============================] - 0s 4ms/step - loss: 29506.3281 - mse: 29506.3281 - mae: 113.3489\n",
      "Epoch 93/300\n",
      "17/17 [==============================] - 0s 4ms/step - loss: 29487.2070 - mse: 29487.2070 - mae: 113.5597\n",
      "Epoch 94/300\n",
      "17/17 [==============================] - 0s 4ms/step - loss: 29311.1426 - mse: 29311.1426 - mae: 113.1971\n",
      "Epoch 95/300\n",
      "17/17 [==============================] - 0s 4ms/step - loss: 29072.3945 - mse: 29072.3945 - mae: 111.6236\n",
      "Epoch 96/300\n",
      "17/17 [==============================] - 0s 4ms/step - loss: 29121.2012 - mse: 29121.1992 - mae: 112.8337\n",
      "Epoch 97/300\n",
      "17/17 [==============================] - 0s 4ms/step - loss: 29806.1367 - mse: 29806.1367 - mae: 114.0958\n",
      "Epoch 98/300\n",
      "17/17 [==============================] - 0s 4ms/step - loss: 29637.7500 - mse: 29637.7500 - mae: 113.9263\n",
      "Epoch 99/300\n",
      "17/17 [==============================] - 0s 4ms/step - loss: 31617.1836 - mse: 31617.1836 - mae: 120.8597\n",
      "Epoch 100/300\n",
      "17/17 [==============================] - 0s 4ms/step - loss: 29487.6289 - mse: 29487.6289 - mae: 112.0120\n",
      "Epoch 101/300\n",
      "17/17 [==============================] - 0s 4ms/step - loss: 29422.7871 - mse: 29422.7871 - mae: 113.1267\n",
      "Epoch 102/300\n",
      "17/17 [==============================] - 0s 4ms/step - loss: 29088.2891 - mse: 29088.2891 - mae: 111.2787\n",
      "Epoch 103/300\n",
      "17/17 [==============================] - 0s 4ms/step - loss: 29184.1582 - mse: 29184.1582 - mae: 110.6531\n",
      "Epoch 104/300\n",
      "17/17 [==============================] - 0s 4ms/step - loss: 29069.2090 - mse: 29069.2090 - mae: 113.0314\n",
      "Epoch 105/300\n",
      "17/17 [==============================] - 0s 4ms/step - loss: 28849.5625 - mse: 28849.5625 - mae: 110.5746\n",
      "Epoch 106/300\n",
      "17/17 [==============================] - 0s 4ms/step - loss: 28882.4277 - mse: 28882.4277 - mae: 110.4797\n",
      "Epoch 107/300\n",
      "17/17 [==============================] - 0s 4ms/step - loss: 29806.8105 - mse: 29806.8105 - mae: 114.9312\n",
      "Epoch 108/300\n",
      "17/17 [==============================] - 0s 4ms/step - loss: 29585.7617 - mse: 29585.7617 - mae: 112.0226\n",
      "Epoch 109/300\n",
      "17/17 [==============================] - 0s 4ms/step - loss: 29234.3711 - mse: 29234.3711 - mae: 112.5669\n",
      "Epoch 110/300\n",
      "17/17 [==============================] - 0s 4ms/step - loss: 29034.2461 - mse: 29034.2461 - mae: 110.0642\n",
      "Epoch 111/300\n",
      "17/17 [==============================] - 0s 4ms/step - loss: 29074.5840 - mse: 29074.5840 - mae: 111.3217\n",
      "Epoch 112/300\n",
      "17/17 [==============================] - 0s 4ms/step - loss: 29028.5176 - mse: 29028.5215 - mae: 110.1846\n",
      "Epoch 113/300\n",
      "17/17 [==============================] - 0s 4ms/step - loss: 29307.7109 - mse: 29307.7109 - mae: 112.4660\n",
      "Epoch 114/300\n",
      "17/17 [==============================] - 0s 4ms/step - loss: 29664.6719 - mse: 29664.6719 - mae: 111.1921\n",
      "Epoch 115/300\n",
      "17/17 [==============================] - 0s 4ms/step - loss: 28915.9316 - mse: 28915.9316 - mae: 111.1473\n",
      "Epoch 116/300\n",
      "17/17 [==============================] - 0s 4ms/step - loss: 28868.4258 - mse: 28868.4258 - mae: 109.4407\n",
      "Epoch 117/300\n",
      "17/17 [==============================] - 0s 4ms/step - loss: 29014.5176 - mse: 29014.5176 - mae: 109.8824\n",
      "Epoch 118/300\n",
      "17/17 [==============================] - 0s 4ms/step - loss: 29021.7031 - mse: 29021.7031 - mae: 110.9319\n",
      "Epoch 119/300\n",
      "17/17 [==============================] - 0s 4ms/step - loss: 30158.1074 - mse: 30158.1074 - mae: 114.4828\n",
      "Epoch 120/300\n",
      "17/17 [==============================] - 0s 4ms/step - loss: 29938.2812 - mse: 29938.2812 - mae: 114.7343\n",
      "Epoch 121/300\n",
      "17/17 [==============================] - 0s 4ms/step - loss: 29371.3184 - mse: 29371.3184 - mae: 111.1479\n",
      "Epoch 122/300\n",
      "17/17 [==============================] - 0s 4ms/step - loss: 29149.7969 - mse: 29149.7969 - mae: 111.0357\n",
      "Epoch 123/300\n",
      "17/17 [==============================] - 0s 4ms/step - loss: 29560.2207 - mse: 29560.2207 - mae: 113.5224\n",
      "Epoch 124/300\n",
      "17/17 [==============================] - 0s 4ms/step - loss: 29963.4512 - mse: 29963.4512 - mae: 114.2231\n",
      "Epoch 125/300\n",
      "17/17 [==============================] - 0s 4ms/step - loss: 29012.1484 - mse: 29012.1484 - mae: 110.1135\n",
      "Epoch 126/300\n",
      "17/17 [==============================] - 0s 4ms/step - loss: 28828.2012 - mse: 28828.2012 - mae: 109.9062\n",
      "Epoch 127/300\n",
      "17/17 [==============================] - 0s 4ms/step - loss: 28959.1191 - mse: 28959.1191 - mae: 109.7974\n",
      "Epoch 128/300\n",
      "17/17 [==============================] - 0s 4ms/step - loss: 28860.3438 - mse: 28860.3438 - mae: 109.5021\n",
      "Epoch 129/300\n",
      "17/17 [==============================] - 0s 4ms/step - loss: 29031.7012 - mse: 29031.7012 - mae: 110.7738\n",
      "Epoch 130/300\n",
      "17/17 [==============================] - 0s 4ms/step - loss: 28886.5840 - mse: 28886.5840 - mae: 109.2567\n",
      "Epoch 131/300\n",
      "17/17 [==============================] - 0s 4ms/step - loss: 28795.1484 - mse: 28795.1484 - mae: 109.0705\n",
      "Epoch 132/300\n",
      "17/17 [==============================] - 0s 4ms/step - loss: 29954.8984 - mse: 29954.8984 - mae: 116.0008\n",
      "Epoch 133/300\n",
      "17/17 [==============================] - 0s 4ms/step - loss: 29558.9160 - mse: 29558.9160 - mae: 111.3469\n",
      "Epoch 134/300\n",
      "17/17 [==============================] - 0s 4ms/step - loss: 28961.1660 - mse: 28961.1660 - mae: 110.6104\n",
      "Epoch 135/300\n",
      "17/17 [==============================] - 0s 4ms/step - loss: 29131.7344 - mse: 29131.7344 - mae: 110.5441\n",
      "Epoch 136/300\n",
      "17/17 [==============================] - 0s 4ms/step - loss: 29136.7578 - mse: 29136.7578 - mae: 109.9024\n",
      "Epoch 137/300\n"
     ]
    },
    {
     "name": "stdout",
     "output_type": "stream",
     "text": [
      "17/17 [==============================] - 0s 4ms/step - loss: 28800.5645 - mse: 28800.5645 - mae: 109.1577\n",
      "Epoch 138/300\n",
      "17/17 [==============================] - 0s 4ms/step - loss: 28776.2422 - mse: 28776.2422 - mae: 109.2645\n",
      "Epoch 139/300\n",
      "17/17 [==============================] - 0s 4ms/step - loss: 28827.4941 - mse: 28827.4941 - mae: 109.7798\n",
      "Epoch 140/300\n",
      "17/17 [==============================] - 0s 4ms/step - loss: 29007.8262 - mse: 29007.8262 - mae: 108.6341\n",
      "Epoch 141/300\n",
      "17/17 [==============================] - 0s 4ms/step - loss: 29134.9336 - mse: 29134.9336 - mae: 110.9096\n",
      "Epoch 142/300\n",
      "17/17 [==============================] - 0s 4ms/step - loss: 28899.5918 - mse: 28899.5918 - mae: 109.3362\n",
      "Epoch 143/300\n",
      "17/17 [==============================] - 0s 4ms/step - loss: 29408.9180 - mse: 29408.9180 - mae: 111.4411\n",
      "Epoch 144/300\n",
      "17/17 [==============================] - 0s 4ms/step - loss: 29163.7246 - mse: 29163.7246 - mae: 111.3395\n",
      "Epoch 145/300\n",
      "17/17 [==============================] - 0s 4ms/step - loss: 29198.8359 - mse: 29198.8359 - mae: 109.5717\n",
      "Epoch 146/300\n",
      "17/17 [==============================] - 0s 4ms/step - loss: 29724.8867 - mse: 29724.8867 - mae: 113.3787\n",
      "Epoch 147/300\n",
      "17/17 [==============================] - 0s 4ms/step - loss: 28937.0039 - mse: 28937.0039 - mae: 108.7019\n",
      "Epoch 148/300\n",
      "17/17 [==============================] - 0s 4ms/step - loss: 29112.8008 - mse: 29112.8027 - mae: 112.4219\n",
      "Epoch 149/300\n",
      "17/17 [==============================] - 0s 4ms/step - loss: 29523.5703 - mse: 29523.5703 - mae: 110.6970\n",
      "Epoch 150/300\n",
      "17/17 [==============================] - 0s 4ms/step - loss: 28986.6426 - mse: 28986.6426 - mae: 111.2022\n",
      "Epoch 151/300\n",
      "17/17 [==============================] - 0s 4ms/step - loss: 30099.0449 - mse: 30099.0469 - mae: 113.6571\n",
      "Epoch 152/300\n",
      "17/17 [==============================] - 0s 4ms/step - loss: 29953.8828 - mse: 29953.8828 - mae: 112.7522\n",
      "Epoch 153/300\n",
      "17/17 [==============================] - 0s 4ms/step - loss: 29097.9062 - mse: 29097.9062 - mae: 111.3658\n",
      "Epoch 154/300\n",
      "17/17 [==============================] - 0s 4ms/step - loss: 28873.0820 - mse: 28873.0801 - mae: 108.0180\n",
      "Epoch 155/300\n",
      "17/17 [==============================] - 0s 4ms/step - loss: 29041.4785 - mse: 29041.4785 - mae: 110.2427\n",
      "Epoch 156/300\n",
      "17/17 [==============================] - 0s 4ms/step - loss: 28836.2070 - mse: 28836.2070 - mae: 108.8917\n",
      "Epoch 157/300\n",
      "17/17 [==============================] - 0s 4ms/step - loss: 29577.9375 - mse: 29577.9375 - mae: 111.5526\n",
      "Epoch 158/300\n",
      "17/17 [==============================] - 0s 4ms/step - loss: 28887.6504 - mse: 28887.6504 - mae: 109.9491\n",
      "Epoch 159/300\n",
      "17/17 [==============================] - 0s 4ms/step - loss: 28739.9668 - mse: 28739.9668 - mae: 108.8043\n",
      "Epoch 160/300\n",
      "17/17 [==============================] - 0s 4ms/step - loss: 28831.0840 - mse: 28831.0840 - mae: 109.0313\n",
      "Epoch 161/300\n",
      "17/17 [==============================] - 0s 4ms/step - loss: 28840.2012 - mse: 28840.2012 - mae: 109.2250\n",
      "Epoch 162/300\n",
      "17/17 [==============================] - 0s 4ms/step - loss: 28809.8828 - mse: 28809.8828 - mae: 108.9980\n",
      "Epoch 163/300\n",
      "17/17 [==============================] - 0s 4ms/step - loss: 28823.7891 - mse: 28823.7891 - mae: 108.7176\n",
      "Epoch 164/300\n",
      "17/17 [==============================] - 0s 4ms/step - loss: 28825.2812 - mse: 28825.2812 - mae: 108.6404\n",
      "Epoch 165/300\n",
      "17/17 [==============================] - 0s 4ms/step - loss: 29092.0332 - mse: 29092.0332 - mae: 112.1917\n",
      "Epoch 166/300\n",
      "17/17 [==============================] - 0s 4ms/step - loss: 28875.6758 - mse: 28875.6758 - mae: 109.2257\n",
      "Epoch 167/300\n",
      "17/17 [==============================] - 0s 4ms/step - loss: 28898.9102 - mse: 28898.9102 - mae: 109.6471\n",
      "Epoch 168/300\n",
      "17/17 [==============================] - 0s 4ms/step - loss: 28831.0039 - mse: 28831.0059 - mae: 108.9065\n",
      "Epoch 169/300\n",
      "17/17 [==============================] - 0s 4ms/step - loss: 29057.9609 - mse: 29057.9609 - mae: 110.5977\n",
      "Epoch 170/300\n",
      "17/17 [==============================] - 0s 4ms/step - loss: 29275.5098 - mse: 29275.5098 - mae: 110.3998\n",
      "Epoch 171/300\n",
      "17/17 [==============================] - 0s 4ms/step - loss: 29041.9609 - mse: 29041.9609 - mae: 109.4217\n",
      "Epoch 172/300\n",
      "17/17 [==============================] - 0s 5ms/step - loss: 28719.1328 - mse: 28719.1348 - mae: 108.6861\n",
      "Epoch 173/300\n",
      "17/17 [==============================] - 0s 4ms/step - loss: 29387.1660 - mse: 29387.1660 - mae: 111.8766\n",
      "Epoch 174/300\n",
      "17/17 [==============================] - 0s 4ms/step - loss: 30157.6289 - mse: 30157.6289 - mae: 113.3728\n",
      "Epoch 175/300\n",
      "17/17 [==============================] - 0s 4ms/step - loss: 29861.0156 - mse: 29861.0156 - mae: 113.4273\n",
      "Epoch 176/300\n",
      "17/17 [==============================] - 0s 5ms/step - loss: 28952.3320 - mse: 28952.3320 - mae: 109.4012\n",
      "Epoch 177/300\n",
      "17/17 [==============================] - 0s 4ms/step - loss: 28867.2480 - mse: 28867.2480 - mae: 110.2309\n",
      "Epoch 178/300\n",
      "17/17 [==============================] - 0s 4ms/step - loss: 29580.5098 - mse: 29580.5098 - mae: 111.5150\n",
      "Epoch 179/300\n",
      "17/17 [==============================] - 0s 4ms/step - loss: 29684.8203 - mse: 29684.8203 - mae: 111.3026\n",
      "Epoch 180/300\n",
      "17/17 [==============================] - 0s 4ms/step - loss: 29017.0801 - mse: 29017.0801 - mae: 109.9584\n",
      "Epoch 181/300\n",
      "17/17 [==============================] - 0s 5ms/step - loss: 28666.0176 - mse: 28666.0176 - mae: 108.6566\n",
      "Epoch 182/300\n",
      "17/17 [==============================] - 0s 4ms/step - loss: 28900.1074 - mse: 28900.1074 - mae: 109.3776\n",
      "Epoch 183/300\n",
      "17/17 [==============================] - 0s 4ms/step - loss: 30175.8711 - mse: 30175.8711 - mae: 116.2485\n",
      "Epoch 184/300\n",
      "17/17 [==============================] - 0s 4ms/step - loss: 28984.1855 - mse: 28984.1855 - mae: 108.7707\n",
      "Epoch 185/300\n",
      "17/17 [==============================] - 0s 4ms/step - loss: 29453.8516 - mse: 29453.8496 - mae: 111.2251\n",
      "Epoch 186/300\n",
      "17/17 [==============================] - 0s 4ms/step - loss: 28706.0332 - mse: 28706.0332 - mae: 109.1410\n",
      "Epoch 187/300\n",
      "17/17 [==============================] - 0s 4ms/step - loss: 28749.4746 - mse: 28749.4746 - mae: 108.4605\n",
      "Epoch 188/300\n",
      "17/17 [==============================] - 0s 4ms/step - loss: 28716.7461 - mse: 28716.7461 - mae: 109.7724\n",
      "Epoch 189/300\n",
      "17/17 [==============================] - 0s 4ms/step - loss: 29567.4043 - mse: 29567.4043 - mae: 111.7902\n",
      "Epoch 190/300\n",
      "17/17 [==============================] - 0s 4ms/step - loss: 29528.2559 - mse: 29528.2559 - mae: 112.2712\n",
      "Epoch 191/300\n",
      "17/17 [==============================] - 0s 4ms/step - loss: 29997.0488 - mse: 29997.0488 - mae: 115.2219\n",
      "Epoch 192/300\n",
      "17/17 [==============================] - 0s 4ms/step - loss: 28924.4395 - mse: 28924.4375 - mae: 109.3887\n",
      "Epoch 193/300\n",
      "17/17 [==============================] - 0s 4ms/step - loss: 28804.6133 - mse: 28804.6133 - mae: 110.0961\n",
      "Epoch 194/300\n",
      "17/17 [==============================] - 0s 4ms/step - loss: 28959.0176 - mse: 28959.0176 - mae: 108.8727\n",
      "Epoch 195/300\n",
      "17/17 [==============================] - 0s 4ms/step - loss: 28772.6543 - mse: 28772.6543 - mae: 109.7990\n",
      "Epoch 196/300\n",
      "17/17 [==============================] - 0s 4ms/step - loss: 28894.2363 - mse: 28894.2363 - mae: 109.4087\n",
      "Epoch 197/300\n",
      "17/17 [==============================] - 0s 4ms/step - loss: 28647.5293 - mse: 28647.5293 - mae: 109.1159\n",
      "Epoch 198/300\n",
      "17/17 [==============================] - 0s 4ms/step - loss: 28860.2637 - mse: 28860.2598 - mae: 109.2050\n",
      "Epoch 199/300\n",
      "17/17 [==============================] - 0s 4ms/step - loss: 29576.1562 - mse: 29576.1562 - mae: 113.2104\n",
      "Epoch 200/300\n",
      "17/17 [==============================] - 0s 4ms/step - loss: 29977.6660 - mse: 29977.6660 - mae: 115.4499\n",
      "Epoch 201/300\n",
      "17/17 [==============================] - 0s 4ms/step - loss: 29633.7891 - mse: 29633.7891 - mae: 111.4163\n",
      "Epoch 202/300\n",
      "17/17 [==============================] - 0s 4ms/step - loss: 28873.5059 - mse: 28873.5059 - mae: 109.0086\n",
      "Epoch 203/300\n",
      "17/17 [==============================] - 0s 4ms/step - loss: 28847.6328 - mse: 28847.6328 - mae: 109.9160\n",
      "Epoch 204/300\n",
      "17/17 [==============================] - 0s 4ms/step - loss: 29404.5996 - mse: 29404.5996 - mae: 111.5777\n",
      "Epoch 205/300\n"
     ]
    },
    {
     "name": "stdout",
     "output_type": "stream",
     "text": [
      "17/17 [==============================] - 0s 4ms/step - loss: 28635.4023 - mse: 28635.4023 - mae: 109.2182\n",
      "Epoch 206/300\n",
      "17/17 [==============================] - 0s 4ms/step - loss: 28931.3789 - mse: 28931.3789 - mae: 109.8820\n",
      "Epoch 207/300\n",
      "17/17 [==============================] - 0s 4ms/step - loss: 29881.0547 - mse: 29881.0547 - mae: 112.8451\n",
      "Epoch 208/300\n",
      "17/17 [==============================] - 0s 4ms/step - loss: 29081.9434 - mse: 29081.9434 - mae: 112.4137\n",
      "Epoch 209/300\n",
      "17/17 [==============================] - 0s 4ms/step - loss: 28725.6152 - mse: 28725.6152 - mae: 108.3395\n",
      "Epoch 210/300\n",
      "17/17 [==============================] - 0s 4ms/step - loss: 28899.0449 - mse: 28899.0449 - mae: 111.3851\n",
      "Epoch 211/300\n",
      "17/17 [==============================] - 0s 4ms/step - loss: 28955.1875 - mse: 28955.1875 - mae: 110.0627\n",
      "Epoch 212/300\n",
      "17/17 [==============================] - 0s 5ms/step - loss: 28940.7988 - mse: 28940.7988 - mae: 110.2217\n",
      "Epoch 213/300\n",
      "17/17 [==============================] - 0s 4ms/step - loss: 29438.4727 - mse: 29438.4727 - mae: 113.0529\n",
      "Epoch 214/300\n",
      "17/17 [==============================] - 0s 4ms/step - loss: 31192.3809 - mse: 31192.3809 - mae: 118.9995\n",
      "Epoch 215/300\n",
      "17/17 [==============================] - 0s 4ms/step - loss: 29970.6699 - mse: 29970.6699 - mae: 115.4347\n",
      "Epoch 216/300\n",
      "17/17 [==============================] - 0s 4ms/step - loss: 29305.3145 - mse: 29305.3145 - mae: 110.2443\n",
      "Epoch 217/300\n",
      "17/17 [==============================] - 0s 4ms/step - loss: 29078.4062 - mse: 29078.4062 - mae: 111.1627\n",
      "Epoch 218/300\n",
      "17/17 [==============================] - 0s 4ms/step - loss: 28865.2617 - mse: 28865.2617 - mae: 110.9871\n",
      "Epoch 219/300\n",
      "17/17 [==============================] - 0s 4ms/step - loss: 28905.5254 - mse: 28905.5254 - mae: 111.4451\n",
      "Epoch 220/300\n",
      "17/17 [==============================] - 0s 4ms/step - loss: 29050.5234 - mse: 29050.5234 - mae: 110.2741\n",
      "Epoch 221/300\n",
      "17/17 [==============================] - 0s 4ms/step - loss: 29669.3125 - mse: 29669.3125 - mae: 111.8994\n",
      "Epoch 222/300\n",
      "17/17 [==============================] - 0s 4ms/step - loss: 29474.5391 - mse: 29474.5391 - mae: 113.3259\n",
      "Epoch 223/300\n",
      "17/17 [==============================] - 0s 4ms/step - loss: 29288.7461 - mse: 29288.7461 - mae: 113.0224\n",
      "Epoch 224/300\n",
      "17/17 [==============================] - 0s 4ms/step - loss: 30073.2207 - mse: 30073.2207 - mae: 113.7107\n",
      "Epoch 225/300\n",
      "17/17 [==============================] - 0s 4ms/step - loss: 29173.2656 - mse: 29173.2695 - mae: 110.7126\n",
      "Epoch 226/300\n",
      "17/17 [==============================] - 0s 4ms/step - loss: 28670.7246 - mse: 28670.7246 - mae: 109.7552\n",
      "Epoch 227/300\n",
      "17/17 [==============================] - 0s 4ms/step - loss: 28598.4141 - mse: 28598.4141 - mae: 108.0712\n",
      "Epoch 228/300\n",
      "17/17 [==============================] - 0s 4ms/step - loss: 28864.4824 - mse: 28864.4824 - mae: 110.2564\n",
      "Epoch 229/300\n",
      "17/17 [==============================] - 0s 4ms/step - loss: 29596.1172 - mse: 29596.1172 - mae: 113.3120\n",
      "Epoch 230/300\n",
      "17/17 [==============================] - 0s 4ms/step - loss: 29466.3281 - mse: 29466.3281 - mae: 111.8208\n",
      "Epoch 231/300\n",
      "17/17 [==============================] - 0s 4ms/step - loss: 28755.8418 - mse: 28755.8418 - mae: 109.0758\n",
      "Epoch 232/300\n",
      "17/17 [==============================] - 0s 4ms/step - loss: 28563.3711 - mse: 28563.3711 - mae: 108.3417\n",
      "Epoch 233/300\n",
      "17/17 [==============================] - 0s 4ms/step - loss: 28573.7129 - mse: 28573.7129 - mae: 108.2350\n",
      "Epoch 234/300\n",
      "17/17 [==============================] - 0s 4ms/step - loss: 28761.9023 - mse: 28761.9023 - mae: 110.1342\n",
      "Epoch 235/300\n",
      "17/17 [==============================] - 0s 4ms/step - loss: 28521.8145 - mse: 28521.8145 - mae: 107.8985\n",
      "Epoch 236/300\n",
      "17/17 [==============================] - 0s 4ms/step - loss: 29154.3340 - mse: 29154.3340 - mae: 110.3052\n",
      "Epoch 237/300\n",
      "17/17 [==============================] - 0s 4ms/step - loss: 29183.8691 - mse: 29183.8691 - mae: 112.6546\n",
      "Epoch 238/300\n",
      "17/17 [==============================] - 0s 4ms/step - loss: 29094.3457 - mse: 29094.3457 - mae: 110.6231\n",
      "Epoch 239/300\n",
      "17/17 [==============================] - 0s 4ms/step - loss: 28972.1465 - mse: 28972.1465 - mae: 110.5532\n",
      "Epoch 240/300\n",
      "17/17 [==============================] - 0s 4ms/step - loss: 28773.8926 - mse: 28773.8926 - mae: 108.7658\n",
      "Epoch 241/300\n",
      "17/17 [==============================] - 0s 4ms/step - loss: 28981.5488 - mse: 28981.5488 - mae: 109.8979\n",
      "Epoch 242/300\n",
      "17/17 [==============================] - 0s 4ms/step - loss: 28968.2598 - mse: 28968.2598 - mae: 110.2268\n",
      "Epoch 243/300\n",
      "17/17 [==============================] - 0s 4ms/step - loss: 28977.7109 - mse: 28977.7109 - mae: 111.6767\n",
      "Epoch 244/300\n",
      "17/17 [==============================] - 0s 5ms/step - loss: 28554.4844 - mse: 28554.4844 - mae: 108.9941\n",
      "Epoch 245/300\n",
      "17/17 [==============================] - 0s 5ms/step - loss: 28748.0957 - mse: 28748.0957 - mae: 109.7247\n",
      "Epoch 246/300\n",
      "17/17 [==============================] - 0s 4ms/step - loss: 29251.7402 - mse: 29251.7402 - mae: 111.5094\n",
      "Epoch 247/300\n",
      "17/17 [==============================] - 0s 4ms/step - loss: 28934.8516 - mse: 28934.8516 - mae: 110.7076\n",
      "Epoch 248/300\n",
      "17/17 [==============================] - 0s 5ms/step - loss: 28557.7949 - mse: 28557.7949 - mae: 108.5022\n",
      "Epoch 249/300\n",
      "17/17 [==============================] - 0s 4ms/step - loss: 29325.1465 - mse: 29325.1465 - mae: 110.7793\n",
      "Epoch 250/300\n",
      "17/17 [==============================] - 0s 5ms/step - loss: 29319.7031 - mse: 29319.7031 - mae: 111.6636\n",
      "Epoch 251/300\n",
      "17/17 [==============================] - 0s 4ms/step - loss: 28936.3867 - mse: 28936.3867 - mae: 109.8349\n",
      "Epoch 252/300\n",
      "17/17 [==============================] - 0s 4ms/step - loss: 28763.9062 - mse: 28763.9062 - mae: 109.3426\n",
      "Epoch 253/300\n",
      "17/17 [==============================] - 0s 5ms/step - loss: 28894.5430 - mse: 28894.5371 - mae: 110.7898\n",
      "Epoch 254/300\n",
      "17/17 [==============================] - 0s 5ms/step - loss: 28618.9492 - mse: 28618.9492 - mae: 107.4161\n",
      "Epoch 255/300\n",
      "17/17 [==============================] - 0s 5ms/step - loss: 28622.0195 - mse: 28622.0195 - mae: 108.5513\n",
      "Epoch 256/300\n",
      "17/17 [==============================] - 0s 5ms/step - loss: 28594.2246 - mse: 28594.2246 - mae: 108.5566\n",
      "Epoch 257/300\n",
      "17/17 [==============================] - 0s 4ms/step - loss: 28590.6504 - mse: 28590.6523 - mae: 108.3024\n",
      "Epoch 258/300\n",
      "17/17 [==============================] - 0s 5ms/step - loss: 28996.4590 - mse: 28996.4590 - mae: 110.0583\n",
      "Epoch 259/300\n",
      "17/17 [==============================] - 0s 4ms/step - loss: 29143.9316 - mse: 29143.9316 - mae: 111.1793\n",
      "Epoch 260/300\n",
      "17/17 [==============================] - 0s 4ms/step - loss: 28612.4844 - mse: 28612.4844 - mae: 109.8521\n",
      "Epoch 261/300\n",
      "17/17 [==============================] - 0s 4ms/step - loss: 28982.4629 - mse: 28982.4629 - mae: 109.0825\n",
      "Epoch 262/300\n",
      "17/17 [==============================] - 0s 5ms/step - loss: 28778.9238 - mse: 28778.9238 - mae: 109.6512\n",
      "Epoch 263/300\n",
      "17/17 [==============================] - 0s 4ms/step - loss: 28442.6855 - mse: 28442.6855 - mae: 108.6204\n",
      "Epoch 264/300\n",
      "17/17 [==============================] - 0s 4ms/step - loss: 28678.3672 - mse: 28678.3672 - mae: 109.1335\n",
      "Epoch 265/300\n",
      "17/17 [==============================] - 0s 4ms/step - loss: 29948.9883 - mse: 29948.9883 - mae: 112.7658\n",
      "Epoch 266/300\n",
      "17/17 [==============================] - 0s 5ms/step - loss: 29177.8965 - mse: 29177.8965 - mae: 110.6270\n",
      "Epoch 267/300\n",
      "17/17 [==============================] - 0s 5ms/step - loss: 28967.2871 - mse: 28967.2871 - mae: 109.5877\n",
      "Epoch 268/300\n",
      "17/17 [==============================] - 0s 4ms/step - loss: 28487.9785 - mse: 28487.9785 - mae: 109.1288\n",
      "Epoch 269/300\n",
      "17/17 [==============================] - 0s 4ms/step - loss: 28930.0000 - mse: 28930.0000 - mae: 110.2808\n",
      "Epoch 270/300\n",
      "17/17 [==============================] - 0s 4ms/step - loss: 29117.9766 - mse: 29117.9766 - mae: 110.9159\n",
      "Epoch 271/300\n",
      "17/17 [==============================] - 0s 4ms/step - loss: 28823.0879 - mse: 28823.0879 - mae: 110.5200\n",
      "Epoch 272/300\n",
      "17/17 [==============================] - 0s 4ms/step - loss: 28623.8086 - mse: 28623.8086 - mae: 108.5523\n",
      "Epoch 273/300\n"
     ]
    },
    {
     "name": "stdout",
     "output_type": "stream",
     "text": [
      "17/17 [==============================] - 0s 5ms/step - loss: 29184.4688 - mse: 29184.4688 - mae: 110.9995\n",
      "Epoch 274/300\n",
      "17/17 [==============================] - 0s 5ms/step - loss: 30314.8867 - mse: 30314.8867 - mae: 115.0856\n",
      "Epoch 275/300\n",
      "17/17 [==============================] - 0s 4ms/step - loss: 29330.2227 - mse: 29330.2246 - mae: 112.3423\n",
      "Epoch 276/300\n",
      "17/17 [==============================] - 0s 4ms/step - loss: 29726.1699 - mse: 29726.1699 - mae: 113.5090\n",
      "Epoch 277/300\n",
      "17/17 [==============================] - 0s 4ms/step - loss: 30724.4512 - mse: 30724.4512 - mae: 117.8752\n",
      "Epoch 278/300\n",
      "17/17 [==============================] - 0s 4ms/step - loss: 29614.5840 - mse: 29614.5840 - mae: 111.5587\n",
      "Epoch 279/300\n",
      "17/17 [==============================] - 0s 6ms/step - loss: 29118.5527 - mse: 29118.5527 - mae: 109.8132\n",
      "Epoch 280/300\n",
      "17/17 [==============================] - 0s 6ms/step - loss: 29810.3066 - mse: 29810.3066 - mae: 113.3571\n",
      "Epoch 281/300\n",
      "17/17 [==============================] - 0s 6ms/step - loss: 28658.6328 - mse: 28658.6328 - mae: 109.8410\n",
      "Epoch 282/300\n",
      "17/17 [==============================] - 0s 5ms/step - loss: 29467.8945 - mse: 29467.8945 - mae: 110.8169\n",
      "Epoch 283/300\n",
      "17/17 [==============================] - 0s 5ms/step - loss: 30851.8516 - mse: 30851.8516 - mae: 119.1365\n",
      "Epoch 284/300\n",
      "17/17 [==============================] - 0s 4ms/step - loss: 29031.9648 - mse: 29031.9648 - mae: 110.9785\n",
      "Epoch 285/300\n",
      "17/17 [==============================] - 0s 5ms/step - loss: 28690.9434 - mse: 28690.9434 - mae: 108.4469\n",
      "Epoch 286/300\n",
      "17/17 [==============================] - 0s 5ms/step - loss: 28929.7070 - mse: 28929.7070 - mae: 110.2866\n",
      "Epoch 287/300\n",
      "17/17 [==============================] - 0s 5ms/step - loss: 29651.8926 - mse: 29651.8945 - mae: 113.1554\n",
      "Epoch 288/300\n",
      "17/17 [==============================] - 0s 5ms/step - loss: 28783.0117 - mse: 28783.0117 - mae: 108.9385\n",
      "Epoch 289/300\n",
      "17/17 [==============================] - 0s 5ms/step - loss: 28660.8145 - mse: 28660.8145 - mae: 109.0107\n",
      "Epoch 290/300\n",
      "17/17 [==============================] - 0s 6ms/step - loss: 28551.3516 - mse: 28551.3516 - mae: 108.0085\n",
      "Epoch 291/300\n",
      "17/17 [==============================] - 0s 5ms/step - loss: 28707.2227 - mse: 28707.2227 - mae: 110.2629\n",
      "Epoch 292/300\n",
      "17/17 [==============================] - 0s 5ms/step - loss: 28672.3652 - mse: 28672.3652 - mae: 109.5759\n",
      "Epoch 293/300\n",
      "17/17 [==============================] - 0s 5ms/step - loss: 28371.3223 - mse: 28371.3223 - mae: 108.2863\n",
      "Epoch 294/300\n",
      "17/17 [==============================] - 0s 4ms/step - loss: 28524.2324 - mse: 28524.2324 - mae: 108.2500\n",
      "Epoch 295/300\n",
      "17/17 [==============================] - 0s 5ms/step - loss: 28676.3867 - mse: 28676.3867 - mae: 109.8206\n",
      "Epoch 296/300\n",
      "17/17 [==============================] - 0s 4ms/step - loss: 29576.2227 - mse: 29576.2227 - mae: 111.9697\n",
      "Epoch 297/300\n",
      "17/17 [==============================] - 0s 5ms/step - loss: 29236.0449 - mse: 29236.0449 - mae: 111.7406\n",
      "Epoch 298/300\n",
      "17/17 [==============================] - 0s 4ms/step - loss: 28698.3438 - mse: 28698.3438 - mae: 109.3036\n",
      "Epoch 299/300\n",
      "17/17 [==============================] - 0s 5ms/step - loss: 28902.4180 - mse: 28902.4180 - mae: 109.8183\n",
      "Epoch 300/300\n",
      "17/17 [==============================] - 0s 4ms/step - loss: 28777.5215 - mse: 28777.5215 - mae: 109.5902\n"
     ]
    },
    {
     "data": {
      "text/plain": [
       "<tensorflow.python.keras.callbacks.History at 0x22a2054a370>"
      ]
     },
     "execution_count": 37,
     "metadata": {},
     "output_type": "execute_result"
    }
   ],
   "source": [
    "model = Sequential()\n",
    "#Hidden layers same size in width\n",
    "layers = 4\n",
    "width= 8*np.ones(layers, dtype = int)\n",
    "model.add(Dense(width[0], input_dim = 8, activation = 'relu', kernel_initializer='normal'))\n",
    "for i in range(1,layers):\n",
    "    model.add(Dense(50*width[i], activation = 'relu'))\n",
    "model.add(Dense(1, activation='linear'))\n",
    "#model.summary()\n",
    "model.compile(optimizer = 'ADAM', loss = 'mean_squared_error', metrics = ['mse','mae'])\n",
    "model.fit(X_tr,y_train, epochs = 300, batch_size=100)"
   ]
  },
  {
   "cell_type": "code",
   "execution_count": 38,
   "id": "7105873c",
   "metadata": {
    "ExecuteTime": {
     "end_time": "2021-10-29T11:10:59.130104Z",
     "start_time": "2021-10-29T11:10:58.880336Z"
    }
   },
   "outputs": [
    {
     "name": "stdout",
     "output_type": "stream",
     "text": [
      "Minimum mean squared error:\n",
      " 223.940877056548\n",
      "R^2 score: 0.683212349700639\n"
     ]
    }
   ],
   "source": [
    "y_p = model.predict(X_te)\n",
    "a = y_test.mean()\n",
    "r_sq = 1-np.sum((y_test.values-y_p.transpose())**2)/np.sum((y_p.transpose()-a)**2)\n",
    "#calculate mean squared error (square rooted)\n",
    "p = np.sqrt(((y_test.values-y_p.transpose())**2).mean())\n",
    "print(\"Minimum mean squared error:\"+ '\\n',p)\n",
    "print(\"R^2 score:\", r_sq)"
   ]
  },
  {
   "cell_type": "markdown",
   "id": "4b15ee1b",
   "metadata": {},
   "source": [
    "The Neural Network did not perform that well either. "
   ]
  },
  {
   "cell_type": "markdown",
   "id": "0c283385",
   "metadata": {},
   "source": [
    "## 5. Final Results"
   ]
  },
  {
   "cell_type": "markdown",
   "id": "ba31f90b",
   "metadata": {},
   "source": [
    "We find that the Random Forest performed the best and we will go forward with that model.\n",
    "\n",
    "I also assume that our ground truth was a bit messy and noisy and avergaed a bunch of things so predictive power was reduced besides the fact that our information is fundemntally lacking to determine with high accuracy: age. \n",
    "\n",
    "We also include a few functions that translate our results to age and birthday."
   ]
  },
  {
   "cell_type": "code",
   "execution_count": 39,
   "id": "c4d0b869",
   "metadata": {
    "ExecuteTime": {
     "end_time": "2021-10-29T11:11:00.689938Z",
     "start_time": "2021-10-29T11:10:59.132099Z"
    }
   },
   "outputs": [
    {
     "name": "stdout",
     "output_type": "stream",
     "text": [
      "Example predictions for birth years:\n"
     ]
    },
    {
     "data": {
      "text/plain": [
       "user_id\n",
       "++5SW5MI5/h8X1hMA3QnmQ4ZM3TcQvn1bQ/jHgHWG0kf/bHrn17MPg==    70.963871\n",
       "++5qk2+uEmkI/3Z4FrBwDw4ZM3TcQvn1bQ/jHgHWG0kf/bHrn17MPg==    62.615049\n",
       "++6+hv3i5RAVsrWO8q5JEQ5+2cvffV/mNepQVJd0smgtpBr4MGMFJQ==    30.607158\n",
       "++6zEVtPCi83vpPTHSY2Vg5+2cvffV/mNepQVJd0smgtpBr4MGMFJQ==    38.298693\n",
       "++7kB6m0hI1TgAPmyY1X6A5+2cvffV/mNepQVJd0smgtpBr4MGMFJQ==    50.779980\n",
       "                                                              ...    \n",
       "zzdHAVxl9iQrwom22S/FLg5+2cvffV/mNepQVJd0smgtpBr4MGMFJQ==    52.433076\n",
       "zzrNxfUzwZXNkSs15haLyA4ZM3TcQvn1bQ/jHgHWG0kf/bHrn17MPg==    59.797597\n",
       "zzrbQXjc2yHwbWjtQ9F3mg5+2cvffV/mNepQVJd0smgtpBr4MGMFJQ==    39.002868\n",
       "zzuZVPanBvW09lNk1C3h+Q5+2cvffV/mNepQVJd0smgtpBr4MGMFJQ==    32.093871\n",
       "zzvZxBSf81furoFl3PcSuHAG1BvSkUYANepQVJd0smgtpBr4MGMFJQ==    27.861898\n",
       "Name: age, Length: 89701, dtype: float64"
      ]
     },
     "execution_count": 39,
     "metadata": {},
     "output_type": "execute_result"
    }
   ],
   "source": [
    "#add a last bit of data to our main unsupervised dataset\n",
    "data = pd.merge(fir_tick, data, on = 'user_id', how = 'inner')\n",
    "data.drop(columns = ['offset'], inplace = True)\n",
    "data.rename(columns = {'amin' : 'fir_tick'}, inplace = True)\n",
    "\n",
    "#function converts seconds since 1900 to year \n",
    "def anno(t):\n",
    "    return 1900+(((t)*10**6)/(60*60*24*365))\n",
    "\n",
    "#returns age given birth year\n",
    "def age(y):\n",
    "    today = pd.to_datetime(\"today\")\n",
    "    return 1900 + anno(tickerz(today))/10**6 - y\n",
    "\n",
    "#Predict birth moments using  Random Forest\n",
    "y = modl.predict(data)\n",
    "datacopy = data \n",
    "datacopy['bday'] = anno(y)\n",
    "datacopy['bday'].rename('birth year', inplace = True)\n",
    "print('Example predictions for birth years:')\n",
    "\n",
    "datacopy['age'] = age(datacopy['bday'])\n",
    "datacopy['age'].rename('age', inplace = True)"
   ]
  },
  {
   "cell_type": "code",
   "execution_count": 40,
   "id": "9a794cc2",
   "metadata": {
    "ExecuteTime": {
     "end_time": "2021-10-29T11:11:01.177289Z",
     "start_time": "2021-10-29T11:11:00.691932Z"
    }
   },
   "outputs": [
    {
     "name": "stdout",
     "output_type": "stream",
     "text": [
      "                                                     birth year        age\n",
      "user_id                                                                   \n",
      "++5SW5MI5/h8X1hMA3QnmQ4ZM3TcQvn1bQ/jHgHWG0kf/bH...  1950.945699  70.963871\n",
      "++5qk2+uEmkI/3Z4FrBwDw4ZM3TcQvn1bQ/jHgHWG0kf/bH...  1959.294521  62.615049\n",
      "++6+hv3i5RAVsrWO8q5JEQ5+2cvffV/mNepQVJd0smgtpBr...  1991.302411  30.607158\n",
      "++6zEVtPCi83vpPTHSY2Vg5+2cvffV/mNepQVJd0smgtpBr...  1983.610877  38.298693\n",
      "++7kB6m0hI1TgAPmyY1X6A5+2cvffV/mNepQVJd0smgtpBr...  1971.129589  50.779980\n",
      "...                                                         ...        ...\n",
      "zzdHAVxl9iQrwom22S/FLg5+2cvffV/mNepQVJd0smgtpBr...  1969.476493  52.433076\n",
      "zzrNxfUzwZXNkSs15haLyA4ZM3TcQvn1bQ/jHgHWG0kf/bH...  1962.111973  59.797597\n",
      "zzrbQXjc2yHwbWjtQ9F3mg5+2cvffV/mNepQVJd0smgtpBr...  1982.906701  39.002868\n",
      "zzuZVPanBvW09lNk1C3h+Q5+2cvffV/mNepQVJd0smgtpBr...  1989.815699  32.093871\n",
      "zzvZxBSf81furoFl3PcSuHAG1BvSkUYANepQVJd0smgtpBr...  1994.047671  27.861898\n",
      "\n",
      "[89701 rows x 2 columns]\n",
      "Interesting, does not look very continuous. Must mean possibly that the algorithm needs some more work.\n"
     ]
    },
    {
     "data": {
      "image/png": "[encoded data removed]",
      "text/plain": [
       "<Figure size 432x288 with 1 Axes>"
      ]
     },
     "metadata": {
      "needs_background": "light"
     },
     "output_type": "display_data"
    }
   ],
   "source": [
    "Ages = pd.merge(datacopy.bday, datacopy.age, on = 'user_id', how = 'inner')\n",
    "print(Ages)\n",
    "Ages.age.plot.hist(bins = 100, title = 'Distribution of People by Ages')\n",
    "print('Interesting, does not look very continuous. Must mean possibly that the algorithm needs some more work.' )"
   ]
  },
  {
   "cell_type": "code",
   "execution_count": 41,
   "id": "e3dc5614",
   "metadata": {
    "ExecuteTime": {
     "end_time": "2021-10-29T11:11:01.301961Z",
     "start_time": "2021-10-29T11:11:01.178292Z"
    }
   },
   "outputs": [
    {
     "data": {
      "text/html": [
       "<div>\n",
       "<style scoped>\n",
       "    .dataframe tbody tr th:only-of-type {\n",
       "        vertical-align: middle;\n",
       "    }\n",
       "\n",
       "    .dataframe tbody tr th {\n",
       "        vertical-align: top;\n",
       "    }\n",
       "\n",
       "    .dataframe thead th {\n",
       "        text-align: right;\n",
       "    }\n",
       "</style>\n",
       "<table border=\"1\" class=\"dataframe\">\n",
       "  <thead>\n",
       "    <tr style=\"text-align: right;\">\n",
       "      <th></th>\n",
       "      <th>age</th>\n",
       "      <th>true_or_predicted</th>\n",
       "    </tr>\n",
       "    <tr>\n",
       "      <th>user_id</th>\n",
       "      <th></th>\n",
       "      <th></th>\n",
       "    </tr>\n",
       "  </thead>\n",
       "  <tbody>\n",
       "    <tr>\n",
       "      <th>++5SW5MI5/h8X1hMA3QnmQ4ZM3TcQvn1bQ/jHgHWG0kf/bHrn17MPg==</th>\n",
       "      <td>70.963871</td>\n",
       "      <td>predicted</td>\n",
       "    </tr>\n",
       "    <tr>\n",
       "      <th>++5qk2+uEmkI/3Z4FrBwDw4ZM3TcQvn1bQ/jHgHWG0kf/bHrn17MPg==</th>\n",
       "      <td>62.615049</td>\n",
       "      <td>predicted</td>\n",
       "    </tr>\n",
       "    <tr>\n",
       "      <th>++6+hv3i5RAVsrWO8q5JEQ5+2cvffV/mNepQVJd0smgtpBr4MGMFJQ==</th>\n",
       "      <td>30.607158</td>\n",
       "      <td>predicted</td>\n",
       "    </tr>\n",
       "    <tr>\n",
       "      <th>++6zEVtPCi83vpPTHSY2Vg5+2cvffV/mNepQVJd0smgtpBr4MGMFJQ==</th>\n",
       "      <td>38.298693</td>\n",
       "      <td>predicted</td>\n",
       "    </tr>\n",
       "    <tr>\n",
       "      <th>++7kB6m0hI1TgAPmyY1X6A5+2cvffV/mNepQVJd0smgtpBr4MGMFJQ==</th>\n",
       "      <td>50.779980</td>\n",
       "      <td>predicted</td>\n",
       "    </tr>\n",
       "    <tr>\n",
       "      <th>...</th>\n",
       "      <td>...</td>\n",
       "      <td>...</td>\n",
       "    </tr>\n",
       "    <tr>\n",
       "      <th>zzdHAVxl9iQrwom22S/FLg5+2cvffV/mNepQVJd0smgtpBr4MGMFJQ==</th>\n",
       "      <td>52.433076</td>\n",
       "      <td>predicted</td>\n",
       "    </tr>\n",
       "    <tr>\n",
       "      <th>zzrNxfUzwZXNkSs15haLyA4ZM3TcQvn1bQ/jHgHWG0kf/bHrn17MPg==</th>\n",
       "      <td>59.797597</td>\n",
       "      <td>predicted</td>\n",
       "    </tr>\n",
       "    <tr>\n",
       "      <th>zzrbQXjc2yHwbWjtQ9F3mg5+2cvffV/mNepQVJd0smgtpBr4MGMFJQ==</th>\n",
       "      <td>39.002868</td>\n",
       "      <td>predicted</td>\n",
       "    </tr>\n",
       "    <tr>\n",
       "      <th>zzuZVPanBvW09lNk1C3h+Q5+2cvffV/mNepQVJd0smgtpBr4MGMFJQ==</th>\n",
       "      <td>32.093871</td>\n",
       "      <td>predicted</td>\n",
       "    </tr>\n",
       "    <tr>\n",
       "      <th>zzvZxBSf81furoFl3PcSuHAG1BvSkUYANepQVJd0smgtpBr4MGMFJQ==</th>\n",
       "      <td>27.861898</td>\n",
       "      <td>predicted</td>\n",
       "    </tr>\n",
       "  </tbody>\n",
       "</table>\n",
       "<p>90312 rows × 2 columns</p>\n",
       "</div>"
      ],
      "text/plain": [
       "                                                          age  \\\n",
       "user_id                                                         \n",
       "++5SW5MI5/h8X1hMA3QnmQ4ZM3TcQvn1bQ/jHgHWG0kf/bH...  70.963871   \n",
       "++5qk2+uEmkI/3Z4FrBwDw4ZM3TcQvn1bQ/jHgHWG0kf/bH...  62.615049   \n",
       "++6+hv3i5RAVsrWO8q5JEQ5+2cvffV/mNepQVJd0smgtpBr...  30.607158   \n",
       "++6zEVtPCi83vpPTHSY2Vg5+2cvffV/mNepQVJd0smgtpBr...  38.298693   \n",
       "++7kB6m0hI1TgAPmyY1X6A5+2cvffV/mNepQVJd0smgtpBr...  50.779980   \n",
       "...                                                       ...   \n",
       "zzdHAVxl9iQrwom22S/FLg5+2cvffV/mNepQVJd0smgtpBr...  52.433076   \n",
       "zzrNxfUzwZXNkSs15haLyA4ZM3TcQvn1bQ/jHgHWG0kf/bH...  59.797597   \n",
       "zzrbQXjc2yHwbWjtQ9F3mg5+2cvffV/mNepQVJd0smgtpBr...  39.002868   \n",
       "zzuZVPanBvW09lNk1C3h+Q5+2cvffV/mNepQVJd0smgtpBr...  32.093871   \n",
       "zzvZxBSf81furoFl3PcSuHAG1BvSkUYANepQVJd0smgtpBr...  27.861898   \n",
       "\n",
       "                                                   true_or_predicted  \n",
       "user_id                                                               \n",
       "++5SW5MI5/h8X1hMA3QnmQ4ZM3TcQvn1bQ/jHgHWG0kf/bH...         predicted  \n",
       "++5qk2+uEmkI/3Z4FrBwDw4ZM3TcQvn1bQ/jHgHWG0kf/bH...         predicted  \n",
       "++6+hv3i5RAVsrWO8q5JEQ5+2cvffV/mNepQVJd0smgtpBr...         predicted  \n",
       "++6zEVtPCi83vpPTHSY2Vg5+2cvffV/mNepQVJd0smgtpBr...         predicted  \n",
       "++7kB6m0hI1TgAPmyY1X6A5+2cvffV/mNepQVJd0smgtpBr...         predicted  \n",
       "...                                                              ...  \n",
       "zzdHAVxl9iQrwom22S/FLg5+2cvffV/mNepQVJd0smgtpBr...         predicted  \n",
       "zzrNxfUzwZXNkSs15haLyA4ZM3TcQvn1bQ/jHgHWG0kf/bH...         predicted  \n",
       "zzrbQXjc2yHwbWjtQ9F3mg5+2cvffV/mNepQVJd0smgtpBr...         predicted  \n",
       "zzuZVPanBvW09lNk1C3h+Q5+2cvffV/mNepQVJd0smgtpBr...         predicted  \n",
       "zzvZxBSf81furoFl3PcSuHAG1BvSkUYANepQVJd0smgtpBr...         predicted  \n",
       "\n",
       "[90312 rows x 2 columns]"
      ]
     },
     "execution_count": 41,
     "metadata": {},
     "output_type": "execute_result"
    }
   ],
   "source": [
    "#final formatting\n",
    "hs_true = age(1900 +((high_schoolers-pd.Timestamp('1900-01-01'))/pd.Timedelta(\"1 days\"))/365)\n",
    "hs_true.rename('age', inplace = True)\n",
    "Ages = pd.merge(Ages,hs_true, on = 'user_id', how = 'left')\n",
    "Ages.age_x[Ages.age_y.notnull()] = Ages.age_y\n",
    "Ages['true_or_predicted'] = 1.0\n",
    "Ages.true_or_predicted[Ages.age_y.notnull()] = 'true'\n",
    "Ages.true_or_predicted[Ages.age_y.isnull()] = 'predicted'\n",
    "Ages.drop(columns = ['age_y','birth year'], inplace = True)\n",
    "Ages.rename(columns={\"age_x\": \"age\"}, inplace = True)\n",
    "Ages"
   ]
  },
  {
   "cell_type": "code",
   "execution_count": null,
   "id": "46682ab6",
   "metadata": {},
   "outputs": [],
   "source": []
  }
 ],
 "metadata": {
  "kernelspec": {
   "display_name": "Python 3 (ipykernel)",
   "language": "python",
   "name": "python3"
  },
  "language_info": {
   "codemirror_mode": {
    "name": "ipython",
    "version": 3
   },
   "file_extension": ".py",
   "mimetype": "text/x-python",
   "name": "python",
   "nbconvert_exporter": "python",
   "pygments_lexer": "ipython3",
   "version": "3.8.12"
  },
  "varInspector": {
   "cols": {
    "lenName": 16,
    "lenType": 16,
    "lenVar": 40
   },
   "kernels_config": {
    "python": {
     "delete_cmd_postfix": "",
     "delete_cmd_prefix": "del ",
     "library": "var_list.py",
     "varRefreshCmd": "print(var_dic_list())"
    },
    "r": {
     "delete_cmd_postfix": ") ",
     "delete_cmd_prefix": "rm(",
     "library": "var_list.r",
     "varRefreshCmd": "cat(var_dic_list()) "
    }
   },
   "types_to_exclude": [
    "module",
    "function",
    "builtin_function_or_method",
    "instance",
    "_Feature"
   ],
   "window_display": false
  }
 },
 "nbformat": 4,
 "nbformat_minor": 5
}
